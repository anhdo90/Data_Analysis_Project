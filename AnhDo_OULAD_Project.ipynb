{
  "cells": [
    {
      "cell_type": "markdown",
      "metadata": {
        "id": "view-in-github",
        "colab_type": "text"
      },
      "source": [
        "<a href=\"https://colab.research.google.com/github/anhdo90/Data_Analysis_Project/blob/main/AnhDo_OULAD_Project.ipynb\" target=\"_parent\"><img src=\"https://colab.research.google.com/assets/colab-badge.svg\" alt=\"Open In Colab\"/></a>"
      ]
    },
    {
      "cell_type": "markdown",
      "id": "723ff3f3",
      "metadata": {
        "id": "723ff3f3"
      },
      "source": [
        "# Anh Do STEAM Project"
      ]
    },
    {
      "cell_type": "markdown",
      "id": "c025ee85",
      "metadata": {
        "id": "c025ee85"
      },
      "source": [
        "### Loading package"
      ]
    },
    {
      "cell_type": "code",
      "execution_count": null,
      "id": "cc4483f4",
      "metadata": {
        "id": "cc4483f4"
      },
      "outputs": [],
      "source": [
        "import pandas as pd\n",
        "import numpy as np\n",
        "import matplotlib.pyplot as plt\n",
        "import seaborn as sns"
      ]
    },
    {
      "cell_type": "markdown",
      "id": "5b609f92",
      "metadata": {
        "id": "5b609f92"
      },
      "source": [
        "### Loading data files"
      ]
    },
    {
      "cell_type": "code",
      "execution_count": null,
      "id": "36bdd668",
      "metadata": {
        "id": "36bdd668"
      },
      "outputs": [],
      "source": [
        "Courses = pd.read_csv(\"courses.csv\")\n",
        "\n",
        "Assessments = pd.read_csv(\"assessments.csv\")\n",
        "\n",
        "Vle = pd.read_csv(\"vle.csv\")\n",
        "\n",
        "Student_info = pd.read_csv(\"studentInfo.csv\")\n",
        "\n",
        "Student_registration = pd.read_csv(\"studentRegistration.csv\")\n",
        "\n",
        "Student_assessment = pd.read_csv(\"studentAssessment.csv\")\n",
        "\n",
        "Student_vle = pd.read_csv(\"studentVle.csv\")"
      ]
    },
    {
      "cell_type": "markdown",
      "id": "9038ebd8",
      "metadata": {
        "id": "9038ebd8"
      },
      "source": [
        "### Some questions I can find out:\n",
        "\n",
        "COURSES:\n",
        "1. What course is the longest/shortest?\n",
        "\n",
        "We find that AAA is the course that have longest course and BBB is the shortest one in the list. However, the different is not significant (268 days and 251 days, respectively)\n",
        "\n",
        "2. How many students enroll in Spring/Fall, which time we have more students?\n",
        "\n",
        "The chart shows that the number of student is increasing quickly from about 13,000 students in 2013 to more than 19,000 students in 2014. Moreover, there are more students tend to enroll in Spring semester.\n",
        "\n",
        "3. Top courses which have highest enrollment?\n",
        "\n",
        "BBB and FFF are top 2 courses which have highest enrollments with almost 8,000 enrollments. Moreover, it also provide that AAA and GGG have the lowest enrollments.\n",
        "\n",
        "4. How many students drop during the course? What Course have the highest number of withdrawal?\n",
        "\n",
        "The result shows us that there are more than 10,000 students in 32,593 total withdraw their courses. it means that about 1/3 of total students dropping classes. We also can see that the number of Fail result is very high with about 7,000 students. Then, we need to know which course have highest number of Fail and Withdraw result.\n",
        "\n",
        "It shows that BBB, FFF, DDD and CCC are courses that have highest number of Withdraw students with more than 2,000 students each course. The number of fail student in each course is also higher than other classes. However, the result related to the number of enrollments in each class. In question 3, we see that these courses have highest enrollments. The higher enrollments are, the higher number of student fail and withdraw from the course are.\n",
        "\n",
        "5. What assessment types bring the higher results or higher assessment?\n",
        "\n",
        "The boxplot shows that Computer Marked test have average of highest score than other test. In that case, Final exam is the harderst exam which have only average point of 65.\n",
        "\n",
        "\n",
        "STUDENTS:\n",
        "1. How many male/female enroll in total class (in percentage?)\n",
        "\n",
        "The pie chart shows that the number Male students is higher than Female student almost 10%. Students accounts for 54.8% for Mal and 45.2% for Female\n",
        "\n",
        "2. What top regions student come from?\n",
        "\n",
        "The graph shows that top 5 regions that have highest number of student are Scotland (10.5%), East Anglian (10.2%), London Region (9.8%), South Region (9.4%), and North Western (8.9%). These region almost keep 50% total students.\n",
        "\n",
        "3. What is percentage of student's level of education?\n",
        "\n",
        "Most of student come to our VLE are lower A level or equal A level. Both of section combine together bring 83% of students (about 27,100 students) for learning environment. Therefore, we should create proper course content which bring more benefits for these sections.\n",
        "\n",
        "4. Age of student?\n",
        "\n",
        "About 70% of platform students are young people use virtual platform to learn more knowledge. 29% student is from 35 -55 years old. They may be want to update their knowledge for their career or use them to learn new content.\n",
        "\n",
        "5. What age have higher result?\n",
        "\n",
        "We can see that the percentage of final result for each age group is quite similar with averge of 38% students pass the exam. However, people under 35 years old have a lowest ratio of Pass student with about 37%. People who have higher age tend to have better result in their exam with 42% pass student equal or higher than 55 years old.\n",
        "\n",
        "6. How many courses do 1 student enroll?\n",
        "\n",
        "25,247 students (77%) enroll only 1 course in the platform. About 10% of student choose one more course in the platform. This is quite low compare to total 7 offered courses. The university should attract students to enroll more class in platform.\n",
        "\n",
        "7. How many students are disability?\n",
        "\n",
        "There is around 10% of student is disable. We will check that does disability affect their final result?\n",
        "\n",
        "8. Does disability affect their result?\n",
        "\n",
        "We find that there is small difference in final_result ratio between 2 groups. Students who is disable have 7% lower in final result ratio compared to who is not. It means that they need more help from instruction to have better result.\n",
        "\n",
        "9. What is the score distribution?\n",
        "\n",
        "The histogram shows that there are very high number of students have around 80 and 100 points in their assessments. Moreover, most of student get higher than 60 points. In the previous question, we also find that around 38% in total student pass in final result.\n",
        "\n",
        "RELATIONSHIP EXPLORATION\n",
        "1. what factor affect a higher result?\n",
        "\n",
        "To answer this question, I assume that assessment type, gender, region, imd band, disability, level of education, and age may affect on student's scores. When I answer above question, these factors have some differences on the final result of students. First, I merge 3 datasets to get these factor on 1 table. Second, I make a multiple regression model on these factors on student score. I test and remove insignificant factors on the model. I find that assessment type, gender, disability, level of education and age have small effect on score with only 5.8%. It means that the model can somehow be used to predict the student's scores, there are many other factors out there to add in the model to increase its measurement.\n",
        "\n",
        "SUMMARY\n",
        "\n",
        "To sum up, I think that there are some things the university can do to improve the platform:\n",
        "1 . Improve the content of course to attract more students in different age band, and region. We also see that most of student just use the platform for only 1 course, we need to build up the courses into a program to help them improve all skills in generally.\n",
        "2 . We can analyze more about preferences on top regions to bring more benefits on these students.\n",
        "3 . The disability also have a impact on student's result. Therefore, we need to find useful tools to help them to catch up with other students.\n",
        "\n",
        "These are short summary total project. To be more detail about process, coding and finding, they are listed in below sections. If I have more time, I will merge and add more variables on the model to optimize it better. I also can make dashboard to visualize and interact output on Power BI.   "
      ]
    },
    {
      "cell_type": "markdown",
      "id": "24e77fb9",
      "metadata": {
        "id": "24e77fb9"
      },
      "source": [
        "### Adding year and semester column"
      ]
    },
    {
      "cell_type": "code",
      "execution_count": null,
      "id": "e8d5eb05",
      "metadata": {
        "id": "e8d5eb05",
        "outputId": "c8e36963-0020-4c88-d805-f87526346fc6"
      },
      "outputs": [
        {
          "data": {
            "text/html": [
              "<div>\n",
              "<style scoped>\n",
              "    .dataframe tbody tr th:only-of-type {\n",
              "        vertical-align: middle;\n",
              "    }\n",
              "\n",
              "    .dataframe tbody tr th {\n",
              "        vertical-align: top;\n",
              "    }\n",
              "\n",
              "    .dataframe thead th {\n",
              "        text-align: right;\n",
              "    }\n",
              "</style>\n",
              "<table border=\"1\" class=\"dataframe\">\n",
              "  <thead>\n",
              "    <tr style=\"text-align: right;\">\n",
              "      <th></th>\n",
              "      <th>code_module</th>\n",
              "      <th>code_presentation</th>\n",
              "      <th>module_presentation_length</th>\n",
              "      <th>Year</th>\n",
              "      <th>Semester</th>\n",
              "    </tr>\n",
              "  </thead>\n",
              "  <tbody>\n",
              "    <tr>\n",
              "      <th>0</th>\n",
              "      <td>AAA</td>\n",
              "      <td>2013J</td>\n",
              "      <td>268</td>\n",
              "      <td>2013</td>\n",
              "      <td>Spring</td>\n",
              "    </tr>\n",
              "    <tr>\n",
              "      <th>1</th>\n",
              "      <td>AAA</td>\n",
              "      <td>2014J</td>\n",
              "      <td>269</td>\n",
              "      <td>2014</td>\n",
              "      <td>Spring</td>\n",
              "    </tr>\n",
              "    <tr>\n",
              "      <th>2</th>\n",
              "      <td>BBB</td>\n",
              "      <td>2013J</td>\n",
              "      <td>268</td>\n",
              "      <td>2013</td>\n",
              "      <td>Spring</td>\n",
              "    </tr>\n",
              "  </tbody>\n",
              "</table>\n",
              "</div>"
            ],
            "text/plain": [
              "  code_module code_presentation  module_presentation_length  Year Semester\n",
              "0         AAA             2013J                         268  2013   Spring\n",
              "1         AAA             2014J                         269  2014   Spring\n",
              "2         BBB             2013J                         268  2013   Spring"
            ]
          },
          "execution_count": 3,
          "metadata": {},
          "output_type": "execute_result"
        }
      ],
      "source": [
        "# Semester replace\n",
        "Semester = {\"B\": \"Fall\", \"J\": \"Spring\"}\n",
        "\n",
        "# Course dataset\n",
        "Courses[\"Year\"] = Courses[\"code_presentation\"].str[0:4]\n",
        "Courses[\"Semester\"] = Courses[\"code_presentation\"].str[-1].replace(Semester)\n",
        "Courses.head(3)"
      ]
    },
    {
      "cell_type": "code",
      "execution_count": null,
      "id": "f0eec0e4",
      "metadata": {
        "id": "f0eec0e4",
        "outputId": "5775e9c8-1242-4c94-cc78-93a41dc0a41c"
      },
      "outputs": [
        {
          "data": {
            "text/html": [
              "<div>\n",
              "<style scoped>\n",
              "    .dataframe tbody tr th:only-of-type {\n",
              "        vertical-align: middle;\n",
              "    }\n",
              "\n",
              "    .dataframe tbody tr th {\n",
              "        vertical-align: top;\n",
              "    }\n",
              "\n",
              "    .dataframe thead th {\n",
              "        text-align: right;\n",
              "    }\n",
              "</style>\n",
              "<table border=\"1\" class=\"dataframe\">\n",
              "  <thead>\n",
              "    <tr style=\"text-align: right;\">\n",
              "      <th></th>\n",
              "      <th>code_module</th>\n",
              "      <th>code_presentation</th>\n",
              "      <th>id_assessment</th>\n",
              "      <th>assessment_type</th>\n",
              "      <th>date</th>\n",
              "      <th>weight</th>\n",
              "      <th>Year</th>\n",
              "      <th>Semester</th>\n",
              "    </tr>\n",
              "  </thead>\n",
              "  <tbody>\n",
              "    <tr>\n",
              "      <th>0</th>\n",
              "      <td>AAA</td>\n",
              "      <td>2013J</td>\n",
              "      <td>1752</td>\n",
              "      <td>TMA</td>\n",
              "      <td>19.0</td>\n",
              "      <td>10.0</td>\n",
              "      <td>2013</td>\n",
              "      <td>Spring</td>\n",
              "    </tr>\n",
              "    <tr>\n",
              "      <th>1</th>\n",
              "      <td>AAA</td>\n",
              "      <td>2013J</td>\n",
              "      <td>1753</td>\n",
              "      <td>TMA</td>\n",
              "      <td>54.0</td>\n",
              "      <td>20.0</td>\n",
              "      <td>2013</td>\n",
              "      <td>Spring</td>\n",
              "    </tr>\n",
              "    <tr>\n",
              "      <th>2</th>\n",
              "      <td>AAA</td>\n",
              "      <td>2013J</td>\n",
              "      <td>1754</td>\n",
              "      <td>TMA</td>\n",
              "      <td>117.0</td>\n",
              "      <td>20.0</td>\n",
              "      <td>2013</td>\n",
              "      <td>Spring</td>\n",
              "    </tr>\n",
              "  </tbody>\n",
              "</table>\n",
              "</div>"
            ],
            "text/plain": [
              "  code_module code_presentation  id_assessment assessment_type   date  weight  \\\n",
              "0         AAA             2013J           1752             TMA   19.0    10.0   \n",
              "1         AAA             2013J           1753             TMA   54.0    20.0   \n",
              "2         AAA             2013J           1754             TMA  117.0    20.0   \n",
              "\n",
              "   Year Semester  \n",
              "0  2013   Spring  \n",
              "1  2013   Spring  \n",
              "2  2013   Spring  "
            ]
          },
          "execution_count": 4,
          "metadata": {},
          "output_type": "execute_result"
        }
      ],
      "source": [
        "# Assessment dataset\n",
        "Assessments[\"Year\"] = Assessments[\"code_presentation\"].str[0:4]\n",
        "Assessments[\"Semester\"] = Assessments[\"code_presentation\"].str[-1].replace(Semester)\n",
        "Assessments.head(3)"
      ]
    },
    {
      "cell_type": "code",
      "execution_count": null,
      "id": "22f3e36f",
      "metadata": {
        "id": "22f3e36f",
        "outputId": "2c1232b9-f14d-4b32-eab8-f8760ad0d21b"
      },
      "outputs": [
        {
          "data": {
            "text/html": [
              "<div>\n",
              "<style scoped>\n",
              "    .dataframe tbody tr th:only-of-type {\n",
              "        vertical-align: middle;\n",
              "    }\n",
              "\n",
              "    .dataframe tbody tr th {\n",
              "        vertical-align: top;\n",
              "    }\n",
              "\n",
              "    .dataframe thead th {\n",
              "        text-align: right;\n",
              "    }\n",
              "</style>\n",
              "<table border=\"1\" class=\"dataframe\">\n",
              "  <thead>\n",
              "    <tr style=\"text-align: right;\">\n",
              "      <th></th>\n",
              "      <th>id_site</th>\n",
              "      <th>code_module</th>\n",
              "      <th>code_presentation</th>\n",
              "      <th>activity_type</th>\n",
              "      <th>week_from</th>\n",
              "      <th>week_to</th>\n",
              "      <th>Year</th>\n",
              "      <th>Semester</th>\n",
              "    </tr>\n",
              "  </thead>\n",
              "  <tbody>\n",
              "    <tr>\n",
              "      <th>0</th>\n",
              "      <td>546943</td>\n",
              "      <td>AAA</td>\n",
              "      <td>2013J</td>\n",
              "      <td>resource</td>\n",
              "      <td>NaN</td>\n",
              "      <td>NaN</td>\n",
              "      <td>2013</td>\n",
              "      <td>Spring</td>\n",
              "    </tr>\n",
              "    <tr>\n",
              "      <th>1</th>\n",
              "      <td>546712</td>\n",
              "      <td>AAA</td>\n",
              "      <td>2013J</td>\n",
              "      <td>oucontent</td>\n",
              "      <td>NaN</td>\n",
              "      <td>NaN</td>\n",
              "      <td>2013</td>\n",
              "      <td>Spring</td>\n",
              "    </tr>\n",
              "    <tr>\n",
              "      <th>2</th>\n",
              "      <td>546998</td>\n",
              "      <td>AAA</td>\n",
              "      <td>2013J</td>\n",
              "      <td>resource</td>\n",
              "      <td>NaN</td>\n",
              "      <td>NaN</td>\n",
              "      <td>2013</td>\n",
              "      <td>Spring</td>\n",
              "    </tr>\n",
              "  </tbody>\n",
              "</table>\n",
              "</div>"
            ],
            "text/plain": [
              "   id_site code_module code_presentation activity_type  week_from  week_to  \\\n",
              "0   546943         AAA             2013J      resource        NaN      NaN   \n",
              "1   546712         AAA             2013J     oucontent        NaN      NaN   \n",
              "2   546998         AAA             2013J      resource        NaN      NaN   \n",
              "\n",
              "   Year Semester  \n",
              "0  2013   Spring  \n",
              "1  2013   Spring  \n",
              "2  2013   Spring  "
            ]
          },
          "execution_count": 5,
          "metadata": {},
          "output_type": "execute_result"
        }
      ],
      "source": [
        "# Vle dataset\n",
        "Vle[\"Year\"] = Vle[\"code_presentation\"].str[0:4]\n",
        "Vle[\"Semester\"] = Vle[\"code_presentation\"].str[-1].replace(Semester)\n",
        "Vle.head(3)"
      ]
    },
    {
      "cell_type": "code",
      "execution_count": null,
      "id": "ee34d8d8",
      "metadata": {
        "scrolled": true,
        "id": "ee34d8d8",
        "outputId": "95a40017-223e-4f31-f287-ab0a0ecaabb5"
      },
      "outputs": [
        {
          "data": {
            "text/html": [
              "<div>\n",
              "<style scoped>\n",
              "    .dataframe tbody tr th:only-of-type {\n",
              "        vertical-align: middle;\n",
              "    }\n",
              "\n",
              "    .dataframe tbody tr th {\n",
              "        vertical-align: top;\n",
              "    }\n",
              "\n",
              "    .dataframe thead th {\n",
              "        text-align: right;\n",
              "    }\n",
              "</style>\n",
              "<table border=\"1\" class=\"dataframe\">\n",
              "  <thead>\n",
              "    <tr style=\"text-align: right;\">\n",
              "      <th></th>\n",
              "      <th>code_module</th>\n",
              "      <th>code_presentation</th>\n",
              "      <th>id_student</th>\n",
              "      <th>gender</th>\n",
              "      <th>region</th>\n",
              "      <th>highest_education</th>\n",
              "      <th>imd_band</th>\n",
              "      <th>age_band</th>\n",
              "      <th>num_of_prev_attempts</th>\n",
              "      <th>studied_credits</th>\n",
              "      <th>disability</th>\n",
              "      <th>final_result</th>\n",
              "      <th>Year</th>\n",
              "      <th>Semester</th>\n",
              "    </tr>\n",
              "  </thead>\n",
              "  <tbody>\n",
              "    <tr>\n",
              "      <th>0</th>\n",
              "      <td>AAA</td>\n",
              "      <td>2013J</td>\n",
              "      <td>11391</td>\n",
              "      <td>M</td>\n",
              "      <td>East Anglian Region</td>\n",
              "      <td>HE Qualification</td>\n",
              "      <td>90-100%</td>\n",
              "      <td>55&lt;=</td>\n",
              "      <td>0</td>\n",
              "      <td>240</td>\n",
              "      <td>N</td>\n",
              "      <td>Pass</td>\n",
              "      <td>2013</td>\n",
              "      <td>Spring</td>\n",
              "    </tr>\n",
              "    <tr>\n",
              "      <th>1</th>\n",
              "      <td>AAA</td>\n",
              "      <td>2013J</td>\n",
              "      <td>28400</td>\n",
              "      <td>F</td>\n",
              "      <td>Scotland</td>\n",
              "      <td>HE Qualification</td>\n",
              "      <td>20-30%</td>\n",
              "      <td>35-55</td>\n",
              "      <td>0</td>\n",
              "      <td>60</td>\n",
              "      <td>N</td>\n",
              "      <td>Pass</td>\n",
              "      <td>2013</td>\n",
              "      <td>Spring</td>\n",
              "    </tr>\n",
              "    <tr>\n",
              "      <th>2</th>\n",
              "      <td>AAA</td>\n",
              "      <td>2013J</td>\n",
              "      <td>30268</td>\n",
              "      <td>F</td>\n",
              "      <td>North Western Region</td>\n",
              "      <td>A Level or Equivalent</td>\n",
              "      <td>30-40%</td>\n",
              "      <td>35-55</td>\n",
              "      <td>0</td>\n",
              "      <td>60</td>\n",
              "      <td>Y</td>\n",
              "      <td>Withdrawn</td>\n",
              "      <td>2013</td>\n",
              "      <td>Spring</td>\n",
              "    </tr>\n",
              "  </tbody>\n",
              "</table>\n",
              "</div>"
            ],
            "text/plain": [
              "  code_module code_presentation  id_student gender                region  \\\n",
              "0         AAA             2013J       11391      M   East Anglian Region   \n",
              "1         AAA             2013J       28400      F              Scotland   \n",
              "2         AAA             2013J       30268      F  North Western Region   \n",
              "\n",
              "       highest_education imd_band age_band  num_of_prev_attempts  \\\n",
              "0       HE Qualification  90-100%     55<=                     0   \n",
              "1       HE Qualification   20-30%    35-55                     0   \n",
              "2  A Level or Equivalent   30-40%    35-55                     0   \n",
              "\n",
              "   studied_credits disability final_result  Year Semester  \n",
              "0              240          N         Pass  2013   Spring  \n",
              "1               60          N         Pass  2013   Spring  \n",
              "2               60          Y    Withdrawn  2013   Spring  "
            ]
          },
          "execution_count": 6,
          "metadata": {},
          "output_type": "execute_result"
        }
      ],
      "source": [
        "# Student_info dataset\n",
        "Student_info[\"Year\"] = Student_info[\"code_presentation\"].str[0:4]\n",
        "Student_info[\"Semester\"] = Student_info[\"code_presentation\"].str[-1].replace(Semester)\n",
        "Student_info.head(3)"
      ]
    },
    {
      "cell_type": "code",
      "execution_count": null,
      "id": "87f22d65",
      "metadata": {
        "id": "87f22d65",
        "outputId": "aa4f3432-eed1-4046-b065-47008a8bd30d"
      },
      "outputs": [
        {
          "data": {
            "text/html": [
              "<div>\n",
              "<style scoped>\n",
              "    .dataframe tbody tr th:only-of-type {\n",
              "        vertical-align: middle;\n",
              "    }\n",
              "\n",
              "    .dataframe tbody tr th {\n",
              "        vertical-align: top;\n",
              "    }\n",
              "\n",
              "    .dataframe thead th {\n",
              "        text-align: right;\n",
              "    }\n",
              "</style>\n",
              "<table border=\"1\" class=\"dataframe\">\n",
              "  <thead>\n",
              "    <tr style=\"text-align: right;\">\n",
              "      <th></th>\n",
              "      <th>code_module</th>\n",
              "      <th>code_presentation</th>\n",
              "      <th>id_student</th>\n",
              "      <th>date_registration</th>\n",
              "      <th>date_unregistration</th>\n",
              "      <th>Year</th>\n",
              "      <th>Semester</th>\n",
              "    </tr>\n",
              "  </thead>\n",
              "  <tbody>\n",
              "    <tr>\n",
              "      <th>0</th>\n",
              "      <td>AAA</td>\n",
              "      <td>2013J</td>\n",
              "      <td>11391</td>\n",
              "      <td>-159.0</td>\n",
              "      <td>NaN</td>\n",
              "      <td>2013</td>\n",
              "      <td>Spring</td>\n",
              "    </tr>\n",
              "    <tr>\n",
              "      <th>1</th>\n",
              "      <td>AAA</td>\n",
              "      <td>2013J</td>\n",
              "      <td>28400</td>\n",
              "      <td>-53.0</td>\n",
              "      <td>NaN</td>\n",
              "      <td>2013</td>\n",
              "      <td>Spring</td>\n",
              "    </tr>\n",
              "    <tr>\n",
              "      <th>2</th>\n",
              "      <td>AAA</td>\n",
              "      <td>2013J</td>\n",
              "      <td>30268</td>\n",
              "      <td>-92.0</td>\n",
              "      <td>12.0</td>\n",
              "      <td>2013</td>\n",
              "      <td>Spring</td>\n",
              "    </tr>\n",
              "  </tbody>\n",
              "</table>\n",
              "</div>"
            ],
            "text/plain": [
              "  code_module code_presentation  id_student  date_registration  \\\n",
              "0         AAA             2013J       11391             -159.0   \n",
              "1         AAA             2013J       28400              -53.0   \n",
              "2         AAA             2013J       30268              -92.0   \n",
              "\n",
              "   date_unregistration  Year Semester  \n",
              "0                  NaN  2013   Spring  \n",
              "1                  NaN  2013   Spring  \n",
              "2                 12.0  2013   Spring  "
            ]
          },
          "execution_count": 7,
          "metadata": {},
          "output_type": "execute_result"
        }
      ],
      "source": [
        "# Student_registration dataset\n",
        "Student_registration[\"Year\"] = Student_registration[\"code_presentation\"].str[0:4]\n",
        "Student_registration[\"Semester\"] = Student_registration[\"code_presentation\"].str[-1].replace(Semester)\n",
        "Student_registration.head(3)"
      ]
    },
    {
      "cell_type": "code",
      "execution_count": null,
      "id": "00604905",
      "metadata": {
        "id": "00604905",
        "outputId": "c42df11a-2adf-468e-cfa6-06de1e1c33f2"
      },
      "outputs": [
        {
          "data": {
            "text/html": [
              "<div>\n",
              "<style scoped>\n",
              "    .dataframe tbody tr th:only-of-type {\n",
              "        vertical-align: middle;\n",
              "    }\n",
              "\n",
              "    .dataframe tbody tr th {\n",
              "        vertical-align: top;\n",
              "    }\n",
              "\n",
              "    .dataframe thead th {\n",
              "        text-align: right;\n",
              "    }\n",
              "</style>\n",
              "<table border=\"1\" class=\"dataframe\">\n",
              "  <thead>\n",
              "    <tr style=\"text-align: right;\">\n",
              "      <th></th>\n",
              "      <th>code_module</th>\n",
              "      <th>code_presentation</th>\n",
              "      <th>id_student</th>\n",
              "      <th>id_site</th>\n",
              "      <th>date</th>\n",
              "      <th>sum_click</th>\n",
              "      <th>Year</th>\n",
              "      <th>Semester</th>\n",
              "    </tr>\n",
              "  </thead>\n",
              "  <tbody>\n",
              "    <tr>\n",
              "      <th>0</th>\n",
              "      <td>AAA</td>\n",
              "      <td>2013J</td>\n",
              "      <td>28400</td>\n",
              "      <td>546652</td>\n",
              "      <td>-10</td>\n",
              "      <td>4</td>\n",
              "      <td>2013</td>\n",
              "      <td>Spring</td>\n",
              "    </tr>\n",
              "    <tr>\n",
              "      <th>1</th>\n",
              "      <td>AAA</td>\n",
              "      <td>2013J</td>\n",
              "      <td>28400</td>\n",
              "      <td>546652</td>\n",
              "      <td>-10</td>\n",
              "      <td>1</td>\n",
              "      <td>2013</td>\n",
              "      <td>Spring</td>\n",
              "    </tr>\n",
              "    <tr>\n",
              "      <th>2</th>\n",
              "      <td>AAA</td>\n",
              "      <td>2013J</td>\n",
              "      <td>28400</td>\n",
              "      <td>546652</td>\n",
              "      <td>-10</td>\n",
              "      <td>1</td>\n",
              "      <td>2013</td>\n",
              "      <td>Spring</td>\n",
              "    </tr>\n",
              "  </tbody>\n",
              "</table>\n",
              "</div>"
            ],
            "text/plain": [
              "  code_module code_presentation  id_student  id_site  date  sum_click  Year  \\\n",
              "0         AAA             2013J       28400   546652   -10          4  2013   \n",
              "1         AAA             2013J       28400   546652   -10          1  2013   \n",
              "2         AAA             2013J       28400   546652   -10          1  2013   \n",
              "\n",
              "  Semester  \n",
              "0   Spring  \n",
              "1   Spring  \n",
              "2   Spring  "
            ]
          },
          "execution_count": 8,
          "metadata": {},
          "output_type": "execute_result"
        }
      ],
      "source": [
        "# Student_vle dataset\n",
        "Student_vle[\"Year\"] = Student_vle[\"code_presentation\"].str[0:4]\n",
        "Student_vle[\"Semester\"] = Student_vle[\"code_presentation\"].str[-1].replace(Semester)\n",
        "Student_vle.head(3)"
      ]
    },
    {
      "cell_type": "code",
      "execution_count": null,
      "id": "dec48c7d",
      "metadata": {
        "id": "dec48c7d",
        "outputId": "cb6859ff-abbc-4b7c-eb29-28ca88caf6aa"
      },
      "outputs": [
        {
          "data": {
            "text/html": [
              "<div>\n",
              "<style scoped>\n",
              "    .dataframe tbody tr th:only-of-type {\n",
              "        vertical-align: middle;\n",
              "    }\n",
              "\n",
              "    .dataframe tbody tr th {\n",
              "        vertical-align: top;\n",
              "    }\n",
              "\n",
              "    .dataframe thead th {\n",
              "        text-align: right;\n",
              "    }\n",
              "</style>\n",
              "<table border=\"1\" class=\"dataframe\">\n",
              "  <thead>\n",
              "    <tr style=\"text-align: right;\">\n",
              "      <th></th>\n",
              "      <th>id_assessment</th>\n",
              "      <th>id_student</th>\n",
              "      <th>date_submitted</th>\n",
              "      <th>is_banked</th>\n",
              "      <th>score</th>\n",
              "    </tr>\n",
              "  </thead>\n",
              "  <tbody>\n",
              "    <tr>\n",
              "      <th>0</th>\n",
              "      <td>1752</td>\n",
              "      <td>11391</td>\n",
              "      <td>18</td>\n",
              "      <td>0</td>\n",
              "      <td>78.0</td>\n",
              "    </tr>\n",
              "    <tr>\n",
              "      <th>1</th>\n",
              "      <td>1752</td>\n",
              "      <td>28400</td>\n",
              "      <td>22</td>\n",
              "      <td>0</td>\n",
              "      <td>70.0</td>\n",
              "    </tr>\n",
              "    <tr>\n",
              "      <th>2</th>\n",
              "      <td>1752</td>\n",
              "      <td>31604</td>\n",
              "      <td>17</td>\n",
              "      <td>0</td>\n",
              "      <td>72.0</td>\n",
              "    </tr>\n",
              "  </tbody>\n",
              "</table>\n",
              "</div>"
            ],
            "text/plain": [
              "   id_assessment  id_student  date_submitted  is_banked  score\n",
              "0           1752       11391              18          0   78.0\n",
              "1           1752       28400              22          0   70.0\n",
              "2           1752       31604              17          0   72.0"
            ]
          },
          "execution_count": 9,
          "metadata": {},
          "output_type": "execute_result"
        }
      ],
      "source": [
        "# Student_Assessment dataset\n",
        "Student_assessment.head(3)"
      ]
    },
    {
      "cell_type": "markdown",
      "id": "7aa707af",
      "metadata": {
        "id": "7aa707af"
      },
      "source": [
        "### Courses"
      ]
    },
    {
      "cell_type": "markdown",
      "id": "bbcc720a",
      "metadata": {
        "id": "bbcc720a"
      },
      "source": [
        "#### 1. What course is the longest/shortest?"
      ]
    },
    {
      "cell_type": "code",
      "execution_count": null,
      "id": "0abc4e9c",
      "metadata": {
        "id": "0abc4e9c",
        "outputId": "e1e45119-e79f-4630-d86e-203a8b36949f"
      },
      "outputs": [
        {
          "data": {
            "text/html": [
              "<div>\n",
              "<style scoped>\n",
              "    .dataframe tbody tr th:only-of-type {\n",
              "        vertical-align: middle;\n",
              "    }\n",
              "\n",
              "    .dataframe tbody tr th {\n",
              "        vertical-align: top;\n",
              "    }\n",
              "\n",
              "    .dataframe thead th {\n",
              "        text-align: right;\n",
              "    }\n",
              "</style>\n",
              "<table border=\"1\" class=\"dataframe\">\n",
              "  <thead>\n",
              "    <tr style=\"text-align: right;\">\n",
              "      <th></th>\n",
              "      <th>code_module</th>\n",
              "      <th>module_presentation_length</th>\n",
              "    </tr>\n",
              "  </thead>\n",
              "  <tbody>\n",
              "    <tr>\n",
              "      <th>0</th>\n",
              "      <td>AAA</td>\n",
              "      <td>268.500000</td>\n",
              "    </tr>\n",
              "    <tr>\n",
              "      <th>1</th>\n",
              "      <td>EEE</td>\n",
              "      <td>259.333333</td>\n",
              "    </tr>\n",
              "    <tr>\n",
              "      <th>2</th>\n",
              "      <td>GGG</td>\n",
              "      <td>257.000000</td>\n",
              "    </tr>\n",
              "    <tr>\n",
              "      <th>3</th>\n",
              "      <td>CCC</td>\n",
              "      <td>255.000000</td>\n",
              "    </tr>\n",
              "    <tr>\n",
              "      <th>4</th>\n",
              "      <td>FFF</td>\n",
              "      <td>254.500000</td>\n",
              "    </tr>\n",
              "    <tr>\n",
              "      <th>5</th>\n",
              "      <td>DDD</td>\n",
              "      <td>251.000000</td>\n",
              "    </tr>\n",
              "    <tr>\n",
              "      <th>6</th>\n",
              "      <td>BBB</td>\n",
              "      <td>251.000000</td>\n",
              "    </tr>\n",
              "  </tbody>\n",
              "</table>\n",
              "</div>"
            ],
            "text/plain": [
              "  code_module  module_presentation_length\n",
              "0         AAA                  268.500000\n",
              "1         EEE                  259.333333\n",
              "2         GGG                  257.000000\n",
              "3         CCC                  255.000000\n",
              "4         FFF                  254.500000\n",
              "5         DDD                  251.000000\n",
              "6         BBB                  251.000000"
            ]
          },
          "execution_count": 10,
          "metadata": {},
          "output_type": "execute_result"
        }
      ],
      "source": [
        "Course_length= Courses.groupby(\"code_module\").module_presentation_length.mean().sort_values(ascending = False).reset_index()\n",
        "Course_length"
      ]
    },
    {
      "cell_type": "code",
      "execution_count": null,
      "id": "7926de6d",
      "metadata": {
        "id": "7926de6d",
        "outputId": "f3ebbdb1-5f5d-403d-9ef6-e14c16dfce7d"
      },
      "outputs": [
        {
          "data": {
            "image/png": "[encoded data removed]",
            "text/plain": [
              "<Figure size 432x288 with 1 Axes>"
            ]
          },
          "metadata": {
            "needs_background": "light"
          },
          "output_type": "display_data"
        }
      ],
      "source": [
        "Course_length.sort_values(by = \"module_presentation_length\").plot(x= \"code_module\",kind = 'barh', legend = None)\n",
        "plt.show()"
      ]
    },
    {
      "cell_type": "markdown",
      "id": "ed416121",
      "metadata": {
        "id": "ed416121"
      },
      "source": [
        "We can see that AAA is the course that have longest course and BBB is the shortest one in the list. However, the different is not significant (268 days and 251 days, respectively)"
      ]
    },
    {
      "cell_type": "markdown",
      "id": "5b8dd2ba",
      "metadata": {
        "id": "5b8dd2ba"
      },
      "source": [
        "##### 2. How many students enroll in Spring/Fall semester, which time we have more students?"
      ]
    },
    {
      "cell_type": "code",
      "execution_count": null,
      "id": "1ced0fdb",
      "metadata": {
        "id": "1ced0fdb",
        "outputId": "dacef22f-41ba-4728-875b-0062fa0849e0"
      },
      "outputs": [
        {
          "data": {
            "text/html": [
              "<div>\n",
              "<style scoped>\n",
              "    .dataframe tbody tr th:only-of-type {\n",
              "        vertical-align: middle;\n",
              "    }\n",
              "\n",
              "    .dataframe tbody tr th {\n",
              "        vertical-align: top;\n",
              "    }\n",
              "\n",
              "    .dataframe thead th {\n",
              "        text-align: right;\n",
              "    }\n",
              "</style>\n",
              "<table border=\"1\" class=\"dataframe\">\n",
              "  <thead>\n",
              "    <tr style=\"text-align: right;\">\n",
              "      <th></th>\n",
              "      <th>Year</th>\n",
              "      <th>Semester</th>\n",
              "      <th>id_student</th>\n",
              "    </tr>\n",
              "  </thead>\n",
              "  <tbody>\n",
              "    <tr>\n",
              "      <th>0</th>\n",
              "      <td>2013</td>\n",
              "      <td>Fall</td>\n",
              "      <td>4684</td>\n",
              "    </tr>\n",
              "    <tr>\n",
              "      <th>1</th>\n",
              "      <td>2013</td>\n",
              "      <td>Spring</td>\n",
              "      <td>8845</td>\n",
              "    </tr>\n",
              "    <tr>\n",
              "      <th>2</th>\n",
              "      <td>2014</td>\n",
              "      <td>Fall</td>\n",
              "      <td>7804</td>\n",
              "    </tr>\n",
              "    <tr>\n",
              "      <th>3</th>\n",
              "      <td>2014</td>\n",
              "      <td>Spring</td>\n",
              "      <td>11260</td>\n",
              "    </tr>\n",
              "  </tbody>\n",
              "</table>\n",
              "</div>"
            ],
            "text/plain": [
              "   Year Semester  id_student\n",
              "0  2013     Fall        4684\n",
              "1  2013   Spring        8845\n",
              "2  2014     Fall        7804\n",
              "3  2014   Spring       11260"
            ]
          },
          "execution_count": 12,
          "metadata": {},
          "output_type": "execute_result"
        }
      ],
      "source": [
        "Student_by_ses = Student_registration.groupby([\"Year\",\"Semester\"]).id_student.count()\n",
        "Student_by_ses.reset_index()"
      ]
    },
    {
      "cell_type": "code",
      "execution_count": null,
      "id": "50d088ba",
      "metadata": {
        "id": "50d088ba",
        "outputId": "1b2a7df0-5ad8-471f-86e5-9229f5a45058"
      },
      "outputs": [
        {
          "data": {
            "image/png": "[encoded data removed]",
            "text/plain": [
              "<Figure size 428.25x360 with 1 Axes>"
            ]
          },
          "metadata": {
            "needs_background": "light"
          },
          "output_type": "display_data"
        }
      ],
      "source": [
        "a = sns.catplot(x = \"Year\", y = \"id_student\", hue = \"Semester\", data = Student_by_ses.reset_index(), kind= \"bar\")\n",
        "a.set(title = \"Student Registration by Year\",\n",
        "      xlabel = \"Year\",\n",
        "     ylabel = \"student Registration\")\n",
        "plt.show()"
      ]
    },
    {
      "cell_type": "markdown",
      "id": "2e934758",
      "metadata": {
        "id": "2e934758"
      },
      "source": [
        "The chart shows that the number of student is increasing quickly from about 13,000 students in 2013 to more than 19,000 students in 2014. Moreover, there are more students tend to enroll in Spring semester."
      ]
    },
    {
      "cell_type": "markdown",
      "id": "2ccd2b49",
      "metadata": {
        "id": "2ccd2b49"
      },
      "source": [
        "##### 3. Top courses which have highest enrollment?"
      ]
    },
    {
      "cell_type": "code",
      "execution_count": null,
      "id": "2cabd8f9",
      "metadata": {
        "id": "2cabd8f9",
        "outputId": "7c6923e5-0494-4200-9c7f-628d6e7cfcaf"
      },
      "outputs": [
        {
          "data": {
            "text/html": [
              "<div>\n",
              "<style scoped>\n",
              "    .dataframe tbody tr th:only-of-type {\n",
              "        vertical-align: middle;\n",
              "    }\n",
              "\n",
              "    .dataframe tbody tr th {\n",
              "        vertical-align: top;\n",
              "    }\n",
              "\n",
              "    .dataframe thead th {\n",
              "        text-align: right;\n",
              "    }\n",
              "</style>\n",
              "<table border=\"1\" class=\"dataframe\">\n",
              "  <thead>\n",
              "    <tr style=\"text-align: right;\">\n",
              "      <th></th>\n",
              "      <th>code_module</th>\n",
              "      <th>count</th>\n",
              "    </tr>\n",
              "  </thead>\n",
              "  <tbody>\n",
              "    <tr>\n",
              "      <th>0</th>\n",
              "      <td>AAA</td>\n",
              "      <td>748.0</td>\n",
              "    </tr>\n",
              "    <tr>\n",
              "      <th>1</th>\n",
              "      <td>BBB</td>\n",
              "      <td>7909.0</td>\n",
              "    </tr>\n",
              "    <tr>\n",
              "      <th>2</th>\n",
              "      <td>CCC</td>\n",
              "      <td>4434.0</td>\n",
              "    </tr>\n",
              "    <tr>\n",
              "      <th>3</th>\n",
              "      <td>DDD</td>\n",
              "      <td>6272.0</td>\n",
              "    </tr>\n",
              "    <tr>\n",
              "      <th>4</th>\n",
              "      <td>EEE</td>\n",
              "      <td>2934.0</td>\n",
              "    </tr>\n",
              "    <tr>\n",
              "      <th>5</th>\n",
              "      <td>FFF</td>\n",
              "      <td>7762.0</td>\n",
              "    </tr>\n",
              "    <tr>\n",
              "      <th>6</th>\n",
              "      <td>GGG</td>\n",
              "      <td>2534.0</td>\n",
              "    </tr>\n",
              "  </tbody>\n",
              "</table>\n",
              "</div>"
            ],
            "text/plain": [
              "  code_module   count\n",
              "0         AAA   748.0\n",
              "1         BBB  7909.0\n",
              "2         CCC  4434.0\n",
              "3         DDD  6272.0\n",
              "4         EEE  2934.0\n",
              "5         FFF  7762.0\n",
              "6         GGG  2534.0"
            ]
          },
          "execution_count": 14,
          "metadata": {},
          "output_type": "execute_result"
        }
      ],
      "source": [
        "# Top enrollment by course\n",
        "Student_by_course = Student_registration.groupby([\"code_module\"]).id_student.describe()['count']\n",
        "Student_by_course.reset_index()"
      ]
    },
    {
      "cell_type": "code",
      "execution_count": null,
      "id": "ba26f6de",
      "metadata": {
        "id": "ba26f6de",
        "outputId": "4bd1a49d-7232-4fed-a421-be2cfc10b4b3"
      },
      "outputs": [
        {
          "data": {
            "image/png": "[encoded data removed]",
            "text/plain": [
              "<Figure size 432x288 with 1 Axes>"
            ]
          },
          "metadata": {
            "needs_background": "light"
          },
          "output_type": "display_data"
        }
      ],
      "source": [
        "Student_by_course.plot(kind = 'bar')\n",
        "plt.title(\"Total Number of Student for Each Course\")\n",
        "plt.xlabel(\"Course\")\n",
        "plt.ylabel(\"Number of Students\")\n",
        "plt.xticks(rotation = 0)\n",
        "plt.show()"
      ]
    },
    {
      "cell_type": "markdown",
      "id": "cd344c00",
      "metadata": {
        "id": "cd344c00"
      },
      "source": [
        "BBB and FFF are top 2 courses which have highest enrollments with almost 8,000 enrollments. Moreover, it also provide that AAA and GGG have the lowest enrollments."
      ]
    },
    {
      "cell_type": "markdown",
      "id": "305734bc",
      "metadata": {
        "id": "305734bc"
      },
      "source": [
        "##### 4. How many students drop during the course? What Course have the highest number of withdrawal?"
      ]
    },
    {
      "cell_type": "code",
      "execution_count": null,
      "id": "718554b8",
      "metadata": {
        "id": "718554b8",
        "outputId": "0579d6b3-9592-4000-c2f2-e4dd6635f635"
      },
      "outputs": [
        {
          "data": {
            "text/plain": [
              "array(['Pass', 'Withdrawn', 'Fail', 'Distinction'], dtype=object)"
            ]
          },
          "execution_count": 16,
          "metadata": {},
          "output_type": "execute_result"
        }
      ],
      "source": [
        "# Check unique value in final result\n",
        "Student_info.final_result.unique()"
      ]
    },
    {
      "cell_type": "code",
      "execution_count": null,
      "id": "8603a6fd",
      "metadata": {
        "id": "8603a6fd",
        "outputId": "dfc50b2a-e942-4ec2-963c-986de4607f74"
      },
      "outputs": [
        {
          "name": "stdout",
          "output_type": "stream",
          "text": [
            "Number Of Students In Each Kind Of Result: \n",
            "\n",
            "             Count  Percentage\n",
            "Pass         12361    0.379253\n",
            "Withdrawn    10156    0.311601\n",
            "Fail          7052    0.216365\n",
            "Distinction   3024    0.092781\n",
            "\n",
            "Total Number Of Student Is: 32593 students.\n"
          ]
        }
      ],
      "source": [
        "# Count number of students in each kind of result.\n",
        "print(str(\"number of students in each kind of result: \\n\").title())\n",
        "\n",
        "Result_count = Student_info.final_result.value_counts(ascending= False)\n",
        "Result_per = Student_info.final_result.value_counts(normalize = True ,ascending= False)\n",
        "print(pd.concat([Result_count, Result_per], axis ='columns', keys = ['Count', 'Percentage']))\n",
        "\n",
        "# Total student\n",
        "print(str(\"\\nTotal number of student is: \").title() + str(Result_count.sum()) + \" students.\")"
      ]
    },
    {
      "cell_type": "code",
      "execution_count": null,
      "id": "c9e8b0d2",
      "metadata": {
        "id": "c9e8b0d2",
        "outputId": "c5e84ed7-9f90-4dc6-b9e5-a1afb54cb530"
      },
      "outputs": [
        {
          "data": {
            "image/png": "[encoded data removed]",
            "text/plain": [
              "<Figure size 360x360 with 1 Axes>"
            ]
          },
          "metadata": {
            "needs_background": "light"
          },
          "output_type": "display_data"
        }
      ],
      "source": [
        "b = sns.catplot(x = \"index\", y = \"final_result\",\n",
        "                data = Result_count.reset_index(), kind= \"bar\")\n",
        "b.set(title = \"The Number of Student in Final Result\",\n",
        "      xlabel = \"Final Result\",\n",
        "     ylabel = \"Number of Student\")\n",
        "plt.show()"
      ]
    },
    {
      "cell_type": "markdown",
      "id": "06491337",
      "metadata": {
        "id": "06491337"
      },
      "source": [
        "The result shows us that there are more than 10,000 students in 32,593 total withdraw their courses. it means that about 1/3 of total students dropping classes. We also can see that the number of Fail result is very high with about 7,000 students. Then, we need to know which course have highest number of Fail and Withdraw result."
      ]
    },
    {
      "cell_type": "markdown",
      "id": "089e7709",
      "metadata": {
        "id": "089e7709"
      },
      "source": [
        "##### What Course have the highest number of Fail and withdrawal?"
      ]
    },
    {
      "cell_type": "code",
      "execution_count": null,
      "id": "ad19dfff",
      "metadata": {
        "id": "ad19dfff",
        "outputId": "c7d0970f-6c4c-4bd5-a683-adba7a79969f"
      },
      "outputs": [
        {
          "data": {
            "text/html": [
              "<div>\n",
              "<style scoped>\n",
              "    .dataframe tbody tr th:only-of-type {\n",
              "        vertical-align: middle;\n",
              "    }\n",
              "\n",
              "    .dataframe tbody tr th {\n",
              "        vertical-align: top;\n",
              "    }\n",
              "\n",
              "    .dataframe thead th {\n",
              "        text-align: right;\n",
              "    }\n",
              "</style>\n",
              "<table border=\"1\" class=\"dataframe\">\n",
              "  <thead>\n",
              "    <tr style=\"text-align: right;\">\n",
              "      <th>final_result</th>\n",
              "      <th>Fail</th>\n",
              "      <th>Withdrawn</th>\n",
              "    </tr>\n",
              "    <tr>\n",
              "      <th>code_module</th>\n",
              "      <th></th>\n",
              "      <th></th>\n",
              "    </tr>\n",
              "  </thead>\n",
              "  <tbody>\n",
              "    <tr>\n",
              "      <th>AAA</th>\n",
              "      <td>91</td>\n",
              "      <td>126</td>\n",
              "    </tr>\n",
              "    <tr>\n",
              "      <th>BBB</th>\n",
              "      <td>1767</td>\n",
              "      <td>2388</td>\n",
              "    </tr>\n",
              "    <tr>\n",
              "      <th>CCC</th>\n",
              "      <td>781</td>\n",
              "      <td>1975</td>\n",
              "    </tr>\n",
              "    <tr>\n",
              "      <th>DDD</th>\n",
              "      <td>1412</td>\n",
              "      <td>2250</td>\n",
              "    </tr>\n",
              "    <tr>\n",
              "      <th>EEE</th>\n",
              "      <td>562</td>\n",
              "      <td>722</td>\n",
              "    </tr>\n",
              "    <tr>\n",
              "      <th>FFF</th>\n",
              "      <td>1711</td>\n",
              "      <td>2403</td>\n",
              "    </tr>\n",
              "    <tr>\n",
              "      <th>GGG</th>\n",
              "      <td>728</td>\n",
              "      <td>292</td>\n",
              "    </tr>\n",
              "  </tbody>\n",
              "</table>\n",
              "</div>"
            ],
            "text/plain": [
              "final_result  Fail  Withdrawn\n",
              "code_module                  \n",
              "AAA             91        126\n",
              "BBB           1767       2388\n",
              "CCC            781       1975\n",
              "DDD           1412       2250\n",
              "EEE            562        722\n",
              "FFF           1711       2403\n",
              "GGG            728        292"
            ]
          },
          "execution_count": 19,
          "metadata": {},
          "output_type": "execute_result"
        }
      ],
      "source": [
        "# The number of student who are Fail and Withdraw in each course\n",
        "course_result = Student_info.groupby([\"code_module\", \"final_result\"]).id_student.count()\n",
        "course_result = course_result.loc[:,[\"Fail\", \"Withdrawn\"]].unstack()\n",
        "course_result"
      ]
    },
    {
      "cell_type": "code",
      "execution_count": null,
      "id": "20d41b86",
      "metadata": {
        "id": "20d41b86",
        "outputId": "3273157e-4433-43b9-b66a-20668a27da42"
      },
      "outputs": [
        {
          "data": {
            "image/png": "[encoded data removed]",
            "text/plain": [
              "<Figure size 432x288 with 1 Axes>"
            ]
          },
          "metadata": {
            "needs_background": "light"
          },
          "output_type": "display_data"
        }
      ],
      "source": [
        "course_result.plot(kind = \"bar\")\n",
        "plt.title(\"Number of Student Who Drop And Fail in Each Course\")\n",
        "plt.xlabel(\"Courses\")\n",
        "plt.ylabel(\"Number of Students\")\n",
        "plt.legend(loc=(1.1, 0.5))\n",
        "plt.xticks(rotation = 0)\n",
        "plt.show()"
      ]
    },
    {
      "cell_type": "markdown",
      "id": "c1a4b5ef",
      "metadata": {
        "id": "c1a4b5ef"
      },
      "source": [
        "It shows that BBB, FFF, DDD and CCC are courses that have highest number of Withdraw students with more than 2,000 students each course. The number of fail student in each course is also higher than other classes. However, the result related to the number of enrollments in each class. In question 3, we see that these courses have highest enrollments. The higher enrollments are, the higher number of student fail and withdraw from the course are."
      ]
    },
    {
      "cell_type": "markdown",
      "id": "4ea66205",
      "metadata": {
        "id": "4ea66205"
      },
      "source": [
        "##### 5. What assessment types bring the higher results or higher assessment?"
      ]
    },
    {
      "cell_type": "code",
      "execution_count": null,
      "id": "6109b1ca",
      "metadata": {
        "id": "6109b1ca",
        "outputId": "d9ac3c59-dde3-4b6f-cb2b-903801f07fc9"
      },
      "outputs": [
        {
          "data": {
            "text/html": [
              "<div>\n",
              "<style scoped>\n",
              "    .dataframe tbody tr th:only-of-type {\n",
              "        vertical-align: middle;\n",
              "    }\n",
              "\n",
              "    .dataframe tbody tr th {\n",
              "        vertical-align: top;\n",
              "    }\n",
              "\n",
              "    .dataframe thead th {\n",
              "        text-align: right;\n",
              "    }\n",
              "</style>\n",
              "<table border=\"1\" class=\"dataframe\">\n",
              "  <thead>\n",
              "    <tr style=\"text-align: right;\">\n",
              "      <th></th>\n",
              "      <th>id_assessment</th>\n",
              "      <th>id_student</th>\n",
              "      <th>date_submitted</th>\n",
              "      <th>is_banked</th>\n",
              "      <th>score</th>\n",
              "      <th>code_module</th>\n",
              "      <th>code_presentation</th>\n",
              "      <th>assessment_type</th>\n",
              "      <th>date</th>\n",
              "      <th>weight</th>\n",
              "      <th>Year</th>\n",
              "      <th>Semester</th>\n",
              "    </tr>\n",
              "  </thead>\n",
              "  <tbody>\n",
              "    <tr>\n",
              "      <th>0</th>\n",
              "      <td>1752</td>\n",
              "      <td>11391</td>\n",
              "      <td>18</td>\n",
              "      <td>0</td>\n",
              "      <td>78.0</td>\n",
              "      <td>AAA</td>\n",
              "      <td>2013J</td>\n",
              "      <td>TMA</td>\n",
              "      <td>19.0</td>\n",
              "      <td>10.0</td>\n",
              "      <td>2013</td>\n",
              "      <td>Spring</td>\n",
              "    </tr>\n",
              "    <tr>\n",
              "      <th>1</th>\n",
              "      <td>1752</td>\n",
              "      <td>28400</td>\n",
              "      <td>22</td>\n",
              "      <td>0</td>\n",
              "      <td>70.0</td>\n",
              "      <td>AAA</td>\n",
              "      <td>2013J</td>\n",
              "      <td>TMA</td>\n",
              "      <td>19.0</td>\n",
              "      <td>10.0</td>\n",
              "      <td>2013</td>\n",
              "      <td>Spring</td>\n",
              "    </tr>\n",
              "    <tr>\n",
              "      <th>2</th>\n",
              "      <td>1752</td>\n",
              "      <td>31604</td>\n",
              "      <td>17</td>\n",
              "      <td>0</td>\n",
              "      <td>72.0</td>\n",
              "      <td>AAA</td>\n",
              "      <td>2013J</td>\n",
              "      <td>TMA</td>\n",
              "      <td>19.0</td>\n",
              "      <td>10.0</td>\n",
              "      <td>2013</td>\n",
              "      <td>Spring</td>\n",
              "    </tr>\n",
              "  </tbody>\n",
              "</table>\n",
              "</div>"
            ],
            "text/plain": [
              "   id_assessment  id_student  date_submitted  is_banked  score code_module  \\\n",
              "0           1752       11391              18          0   78.0         AAA   \n",
              "1           1752       28400              22          0   70.0         AAA   \n",
              "2           1752       31604              17          0   72.0         AAA   \n",
              "\n",
              "  code_presentation assessment_type  date  weight  Year Semester  \n",
              "0             2013J             TMA  19.0    10.0  2013   Spring  \n",
              "1             2013J             TMA  19.0    10.0  2013   Spring  \n",
              "2             2013J             TMA  19.0    10.0  2013   Spring  "
            ]
          },
          "execution_count": 21,
          "metadata": {},
          "output_type": "execute_result"
        }
      ],
      "source": [
        "# Merge Student assessment and assessment score\n",
        "Student_assessment_nona = Student_assessment.dropna()\n",
        "type_score = Student_assessment_nona.merge(Assessments, on = 'id_assessment', how = 'left')\n",
        "type_score.head(3)"
      ]
    },
    {
      "cell_type": "code",
      "execution_count": null,
      "id": "f3b28bb2",
      "metadata": {
        "id": "f3b28bb2",
        "outputId": "1413c966-cac2-4940-91de-2ab48fecfba8"
      },
      "outputs": [
        {
          "data": {
            "text/plain": [
              "assessment_type\n",
              "CMA     81.027053\n",
              "Exam    65.572898\n",
              "TMA     72.563392\n",
              "Name: score, dtype: float64"
            ]
          },
          "execution_count": 22,
          "metadata": {},
          "output_type": "execute_result"
        }
      ],
      "source": [
        "type_score.groupby('assessment_type').score.mean()"
      ]
    },
    {
      "cell_type": "code",
      "execution_count": null,
      "id": "9de25422",
      "metadata": {
        "id": "9de25422",
        "outputId": "036fde83-8d82-4e12-b5c8-66dc50bfb294"
      },
      "outputs": [
        {
          "data": {
            "image/png": "[encoded data removed]",
            "text/plain": [
              "<Figure size 432x288 with 1 Axes>"
            ]
          },
          "metadata": {
            "needs_background": "light"
          },
          "output_type": "display_data"
        }
      ],
      "source": [
        "sns.boxplot(x = 'assessment_type', y = 'score', data = type_score)\n",
        "plt.title(\"Score Distribution by Assessment Type\")\n",
        "plt.xlabel(\"Assessment Types\")\n",
        "plt.ylabel(\"Score\")\n",
        "plt.show()"
      ]
    },
    {
      "cell_type": "markdown",
      "id": "c3b9479c",
      "metadata": {
        "id": "c3b9479c"
      },
      "source": [
        "The boxplot shows that Computer Marked test have average of highest score than other test. In that case, Final exam is the harderst exam which have only average point of 65."
      ]
    },
    {
      "cell_type": "markdown",
      "id": "a0e6ba71",
      "metadata": {
        "id": "a0e6ba71"
      },
      "source": [
        "#### STUDENTS"
      ]
    },
    {
      "cell_type": "markdown",
      "id": "79483354",
      "metadata": {
        "id": "79483354"
      },
      "source": [
        "##### 1. How many male/female enroll in total class (in percentage?)"
      ]
    },
    {
      "cell_type": "code",
      "execution_count": null,
      "id": "5508a4cf",
      "metadata": {
        "id": "5508a4cf",
        "outputId": "33c506e3-50ca-4a68-de70-0c9f04dcdb97"
      },
      "outputs": [
        {
          "name": "stdout",
          "output_type": "stream",
          "text": [
            "The number of Male and Female enroll: \n",
            "\n",
            "   Count  Percentage\n",
            "M  17875    0.548431\n",
            "F  14718    0.451569\n"
          ]
        }
      ],
      "source": [
        "print(\"The number of Male and Female enroll: \\n\")\n",
        "Gender_count = Student_info.gender.value_counts(ascending= False)\n",
        "Gender_per = Student_info.gender.value_counts(normalize = True ,ascending= False)\n",
        "print(pd.concat([Gender_count, Gender_per], axis ='columns', keys = ['Count', 'Percentage']))"
      ]
    },
    {
      "cell_type": "code",
      "execution_count": null,
      "id": "9f53e6f5",
      "metadata": {
        "id": "9f53e6f5",
        "outputId": "c532037f-699a-455a-d409-a0a3cad52686"
      },
      "outputs": [
        {
          "data": {
            "image/png": "[encoded data removed]",
            "text/plain": [
              "<Figure size 432x288 with 1 Axes>"
            ]
          },
          "metadata": {},
          "output_type": "display_data"
        }
      ],
      "source": [
        "plt.pie(Student_info.gender.value_counts(), labels=['Male', 'Female'],autopct='%1.1f%%',\n",
        "        startangle=90)\n",
        "plt.title(str('The Number of Male and Female in Total Courses').title())\n",
        "plt.show()"
      ]
    },
    {
      "cell_type": "markdown",
      "id": "6b4bc601",
      "metadata": {
        "id": "6b4bc601"
      },
      "source": [
        "The pie chart shows that the number Male students is higher than Female student almost 10%."
      ]
    },
    {
      "cell_type": "markdown",
      "id": "db8a39ec",
      "metadata": {
        "id": "db8a39ec"
      },
      "source": [
        "##### 2. What regions student come from?"
      ]
    },
    {
      "cell_type": "code",
      "execution_count": null,
      "id": "40b8e10a",
      "metadata": {
        "id": "40b8e10a",
        "outputId": "56a77b94-f147-47e9-868e-022a90e2e9b7"
      },
      "outputs": [
        {
          "name": "stdout",
          "output_type": "stream",
          "text": [
            "The Number of Student in Each Location: \n",
            "                      Count  Percentage\n",
            "Scotland               3446    0.105728\n",
            "East Anglian Region    3340    0.102476\n",
            "London Region          3216    0.098671\n",
            "South Region           3092    0.094867\n",
            "North Western Region   2906    0.089160\n",
            "West Midlands Region   2582    0.079219\n",
            "South West Region      2436    0.074740\n",
            "East Midlands Region   2365    0.072562\n",
            "South East Region      2111    0.064769\n",
            "Wales                  2086    0.064001\n",
            "Yorkshire Region       2006    0.061547\n",
            "North Region           1823    0.055932\n",
            "Ireland                1184    0.036327\n"
          ]
        }
      ],
      "source": [
        "print(\"The Number of Student in Each Location: \")\n",
        "region_count = Student_info.region.value_counts(ascending= False)\n",
        "region_per = Student_info.region.value_counts(normalize = True ,ascending= False)\n",
        "print(pd.concat([region_count, region_per], axis ='columns', keys = ['Count', 'Percentage']))"
      ]
    },
    {
      "cell_type": "code",
      "execution_count": null,
      "id": "02310b89",
      "metadata": {
        "id": "02310b89",
        "outputId": "178b66e2-46ba-4b86-f642-016d03f820d3"
      },
      "outputs": [
        {
          "data": {
            "image/png": "[encoded data removed]",
            "text/plain": [
              "<Figure size 432x288 with 1 Axes>"
            ]
          },
          "metadata": {
            "needs_background": "light"
          },
          "output_type": "display_data"
        }
      ],
      "source": [
        "Student_info.region.value_counts(ascending= True).plot(kind = 'barh')\n",
        "plt.title(str('The Number of Student in Each Location').title())\n",
        "plt.xlabel(str('The number of student').title())\n",
        "plt.show()"
      ]
    },
    {
      "cell_type": "markdown",
      "id": "46a161f8",
      "metadata": {
        "id": "46a161f8"
      },
      "source": [
        "The graph shows that top 5 regions that have highest number of student are Scotland (10.5%), East Anglian (10.2%), London Region (9.8%), South Region (9.4%), and North Western (8.9%). These region almost keep 50% total students."
      ]
    },
    {
      "cell_type": "markdown",
      "id": "15f308d5",
      "metadata": {
        "id": "15f308d5"
      },
      "source": [
        "##### 3. What is percentage of student's level of education?\n"
      ]
    },
    {
      "cell_type": "code",
      "execution_count": null,
      "id": "1046b11f",
      "metadata": {
        "id": "1046b11f",
        "outputId": "51216c4d-69d9-4555-95a9-3215bac3ef86"
      },
      "outputs": [
        {
          "name": "stdout",
          "output_type": "stream",
          "text": [
            "The Number of Student in Each Level Of Education: \n",
            "\n",
            "                             Count  Percentage\n",
            "A Level or Equivalent        14045    0.430921\n",
            "Lower Than A Level           13158    0.403706\n",
            "HE Qualification              4730    0.145123\n",
            "No Formal quals                347    0.010646\n",
            "Post Graduate Qualification    313    0.009603\n"
          ]
        }
      ],
      "source": [
        "print(\"The Number of Student in Each Level Of Education: \\n\")\n",
        "edu_level_count = Student_info.highest_education.value_counts(ascending= False)\n",
        "edu_level_per = Student_info.highest_education.value_counts(normalize = True ,ascending= False)\n",
        "print(pd.concat([edu_level_count, edu_level_per], axis ='columns', keys = ['Count', 'Percentage']))"
      ]
    },
    {
      "cell_type": "code",
      "execution_count": null,
      "id": "30fbd531",
      "metadata": {
        "id": "30fbd531",
        "outputId": "f922d416-6bd6-4cf8-af94-2a571a3e7404"
      },
      "outputs": [
        {
          "data": {
            "image/png": "[encoded data removed]",
            "text/plain": [
              "<Figure size 432x288 with 1 Axes>"
            ]
          },
          "metadata": {},
          "output_type": "display_data"
        }
      ],
      "source": [
        "edu_label = ['A Level or Equivalent','Lower Than A Level', 'HE Qualification', 'No Formal quals', 'Post Graduate']\n",
        "plt.pie(Student_info.highest_education.value_counts(), labels= edu_label ,autopct='%1.1f%%',\n",
        "        startangle=150)\n",
        "plt.title(str(\"The student's level of education\").title())\n",
        "plt.show()"
      ]
    },
    {
      "cell_type": "markdown",
      "id": "739f9e74",
      "metadata": {
        "id": "739f9e74"
      },
      "source": [
        "Most of student come to our VLE are lower A level or equal A level. Both of section combine together bring 83% of students (about 27,100 students) for learning environment. Therefore, we should create proper course content which bring more benefits for these sections."
      ]
    },
    {
      "cell_type": "markdown",
      "id": "8277aacf",
      "metadata": {
        "id": "8277aacf"
      },
      "source": [
        "##### 4. Age of student?\n"
      ]
    },
    {
      "cell_type": "code",
      "execution_count": null,
      "id": "46db7d9f",
      "metadata": {
        "id": "46db7d9f",
        "outputId": "197a56da-5dad-41fc-eb8a-d11b2b95b068"
      },
      "outputs": [
        {
          "name": "stdout",
          "output_type": "stream",
          "text": [
            "The Number of Student in Each Age band: \n",
            "\n",
            "       Count  Percentage\n",
            "0-35   22944    0.703955\n",
            "35-55   9433    0.289418\n",
            "55<=     216    0.006627\n"
          ]
        }
      ],
      "source": [
        "print(\"The Number of Student in Each Age band: \\n\")\n",
        "age_count = Student_info.age_band.value_counts(ascending= False)\n",
        "age_per = Student_info.age_band.value_counts(normalize = True ,ascending= False)\n",
        "print(pd.concat([age_count, age_per], axis ='columns', keys = ['Count', 'Percentage']))"
      ]
    },
    {
      "cell_type": "code",
      "execution_count": null,
      "id": "f07b7818",
      "metadata": {
        "id": "f07b7818",
        "outputId": "dfc663c1-c019-408f-f522-47069ffe0690"
      },
      "outputs": [
        {
          "data": {
            "image/png": "[encoded data removed]",
            "text/plain": [
              "<Figure size 432x288 with 1 Axes>"
            ]
          },
          "metadata": {},
          "output_type": "display_data"
        }
      ],
      "source": [
        "age_label = ['0-35','35-55', '>=55']\n",
        "plt.pie(Student_info.age_band.value_counts(), labels= age_label ,autopct='%1.1f%%',\n",
        "        startangle=195)\n",
        "plt.title(str(\"The student's Age\").title())\n",
        "plt.show()"
      ]
    },
    {
      "cell_type": "markdown",
      "id": "2332ae75",
      "metadata": {
        "id": "2332ae75"
      },
      "source": [
        "About 70% of platform students are young people use virtual platform to learn more knowledge. 29% student is from 35 -55 years old. They may be want to update their knowledge for their career or use them to learn new content."
      ]
    },
    {
      "cell_type": "markdown",
      "id": "9880d783",
      "metadata": {
        "id": "9880d783"
      },
      "source": [
        "##### 5. What age/gender have higher result?\n"
      ]
    },
    {
      "cell_type": "code",
      "execution_count": null,
      "id": "7b9ed625",
      "metadata": {
        "id": "7b9ed625",
        "outputId": "3f280e04-eeee-4325-bcf1-87068cdd8acc"
      },
      "outputs": [
        {
          "data": {
            "text/html": [
              "<div>\n",
              "<style scoped>\n",
              "    .dataframe tbody tr th:only-of-type {\n",
              "        vertical-align: middle;\n",
              "    }\n",
              "\n",
              "    .dataframe tbody tr th {\n",
              "        vertical-align: top;\n",
              "    }\n",
              "\n",
              "    .dataframe thead th {\n",
              "        text-align: right;\n",
              "    }\n",
              "</style>\n",
              "<table border=\"1\" class=\"dataframe\">\n",
              "  <thead>\n",
              "    <tr style=\"text-align: right;\">\n",
              "      <th>final_result</th>\n",
              "      <th>Distinction</th>\n",
              "      <th>Fail</th>\n",
              "      <th>Pass</th>\n",
              "      <th>Withdrawn</th>\n",
              "      <th>All</th>\n",
              "      <th>Pecent of Pass Student</th>\n",
              "    </tr>\n",
              "    <tr>\n",
              "      <th>age_band</th>\n",
              "      <th></th>\n",
              "      <th></th>\n",
              "      <th></th>\n",
              "      <th></th>\n",
              "      <th></th>\n",
              "      <th></th>\n",
              "    </tr>\n",
              "  </thead>\n",
              "  <tbody>\n",
              "    <tr>\n",
              "      <th>0-35</th>\n",
              "      <td>1863</td>\n",
              "      <td>5231</td>\n",
              "      <td>8469</td>\n",
              "      <td>7381</td>\n",
              "      <td>22944</td>\n",
              "      <td>0.369116</td>\n",
              "    </tr>\n",
              "    <tr>\n",
              "      <th>35-55</th>\n",
              "      <td>1120</td>\n",
              "      <td>1792</td>\n",
              "      <td>3800</td>\n",
              "      <td>2721</td>\n",
              "      <td>9433</td>\n",
              "      <td>0.402841</td>\n",
              "    </tr>\n",
              "    <tr>\n",
              "      <th>55&lt;=</th>\n",
              "      <td>41</td>\n",
              "      <td>29</td>\n",
              "      <td>92</td>\n",
              "      <td>54</td>\n",
              "      <td>216</td>\n",
              "      <td>0.425926</td>\n",
              "    </tr>\n",
              "    <tr>\n",
              "      <th>All</th>\n",
              "      <td>3024</td>\n",
              "      <td>7052</td>\n",
              "      <td>12361</td>\n",
              "      <td>10156</td>\n",
              "      <td>32593</td>\n",
              "      <td>0.379253</td>\n",
              "    </tr>\n",
              "  </tbody>\n",
              "</table>\n",
              "</div>"
            ],
            "text/plain": [
              "final_result  Distinction  Fail   Pass  Withdrawn    All  \\\n",
              "age_band                                                   \n",
              "0-35                 1863  5231   8469       7381  22944   \n",
              "35-55                1120  1792   3800       2721   9433   \n",
              "55<=                   41    29     92         54    216   \n",
              "All                  3024  7052  12361      10156  32593   \n",
              "\n",
              "final_result  Pecent of Pass Student  \n",
              "age_band                              \n",
              "0-35                        0.369116  \n",
              "35-55                       0.402841  \n",
              "55<=                        0.425926  \n",
              "All                         0.379253  "
            ]
          },
          "execution_count": 32,
          "metadata": {},
          "output_type": "execute_result"
        }
      ],
      "source": [
        "age_res = pd.crosstab(Student_info.age_band,Student_info.final_result)\n",
        "age_result = pd.crosstab(Student_info.age_band,Student_info.final_result, margins= True)\n",
        "age_result['Pecent of Pass Student'] = age_result.Pass / age_result.All\n",
        "age_result"
      ]
    },
    {
      "cell_type": "code",
      "execution_count": null,
      "id": "401894c1",
      "metadata": {
        "id": "401894c1",
        "outputId": "4212bdaa-115d-4826-a6ac-48a5688437ba"
      },
      "outputs": [
        {
          "data": {
            "image/png": "[encoded data removed]",
            "text/plain": [
              "<Figure size 432x288 with 1 Axes>"
            ]
          },
          "metadata": {
            "needs_background": "light"
          },
          "output_type": "display_data"
        }
      ],
      "source": [
        "age_res.plot(kind = 'bar')\n",
        "plt.title(\"Number Of Student In Each Group Of Age And Final Result\")\n",
        "plt.xlabel(\"Age Group\")\n",
        "plt.ylabel(\"Number of Students\")\n",
        "plt.legend(loc=(1.1, 0.5))\n",
        "plt.xticks(rotation = 0)\n",
        "plt.show()"
      ]
    },
    {
      "cell_type": "markdown",
      "id": "40bb9fbb",
      "metadata": {
        "id": "40bb9fbb"
      },
      "source": [
        "We can see that the percentage of final result for each age group is quite similar with averge of 38% students pass the exam. However, people under 35 years old have a lowest ratio of Pass student with about 37%. People who have higher age tend to have better result in their exam with 42% pass student equal or higher than 55 years old."
      ]
    },
    {
      "cell_type": "markdown",
      "id": "919094f1",
      "metadata": {
        "id": "919094f1"
      },
      "source": [
        "##### 6. How many courses do 1 student enroll?\n"
      ]
    },
    {
      "cell_type": "code",
      "execution_count": null,
      "id": "334c9476",
      "metadata": {
        "id": "334c9476",
        "outputId": "720eb438-e6e2-4a01-cd7d-656e1e87d056"
      },
      "outputs": [
        {
          "data": {
            "text/plain": [
              "(32593, 7)"
            ]
          },
          "execution_count": 34,
          "metadata": {},
          "output_type": "execute_result"
        }
      ],
      "source": [
        "# check dataset\n",
        "Student_registration.shape"
      ]
    },
    {
      "cell_type": "code",
      "execution_count": null,
      "id": "99977cd5",
      "metadata": {
        "id": "99977cd5",
        "outputId": "46795c1d-0232-4e59-fcb5-6656c78062cc"
      },
      "outputs": [
        {
          "data": {
            "text/plain": [
              "code_module                0\n",
              "code_presentation          0\n",
              "id_student                 0\n",
              "date_registration         45\n",
              "date_unregistration    22521\n",
              "Year                       0\n",
              "Semester                   0\n",
              "dtype: int64"
            ]
          },
          "execution_count": 35,
          "metadata": {},
          "output_type": "execute_result"
        }
      ],
      "source": [
        "# check NaN data\n",
        "Student_registration.isna().sum()"
      ]
    },
    {
      "cell_type": "code",
      "execution_count": null,
      "id": "7feee50d",
      "metadata": {
        "id": "7feee50d",
        "outputId": "6b43a2f9-7ae7-4610-f814-0af7cfa5b294"
      },
      "outputs": [
        {
          "data": {
            "text/html": [
              "<div>\n",
              "<style scoped>\n",
              "    .dataframe tbody tr th:only-of-type {\n",
              "        vertical-align: middle;\n",
              "    }\n",
              "\n",
              "    .dataframe tbody tr th {\n",
              "        vertical-align: top;\n",
              "    }\n",
              "\n",
              "    .dataframe thead th {\n",
              "        text-align: right;\n",
              "    }\n",
              "</style>\n",
              "<table border=\"1\" class=\"dataframe\">\n",
              "  <thead>\n",
              "    <tr style=\"text-align: right;\">\n",
              "      <th></th>\n",
              "      <th>Num Of Student</th>\n",
              "    </tr>\n",
              "    <tr>\n",
              "      <th>code_module</th>\n",
              "      <th></th>\n",
              "    </tr>\n",
              "  </thead>\n",
              "  <tbody>\n",
              "    <tr>\n",
              "      <th>1</th>\n",
              "      <td>25247</td>\n",
              "    </tr>\n",
              "    <tr>\n",
              "      <th>2</th>\n",
              "      <td>3293</td>\n",
              "    </tr>\n",
              "    <tr>\n",
              "      <th>3</th>\n",
              "      <td>221</td>\n",
              "    </tr>\n",
              "    <tr>\n",
              "      <th>4</th>\n",
              "      <td>23</td>\n",
              "    </tr>\n",
              "    <tr>\n",
              "      <th>5</th>\n",
              "      <td>1</td>\n",
              "    </tr>\n",
              "  </tbody>\n",
              "</table>\n",
              "</div>"
            ],
            "text/plain": [
              "             Num Of Student\n",
              "code_module                \n",
              "1                     25247\n",
              "2                      3293\n",
              "3                       221\n",
              "4                        23\n",
              "5                         1"
            ]
          },
          "execution_count": 36,
          "metadata": {},
          "output_type": "execute_result"
        }
      ],
      "source": [
        "# Count and sort student who enroll highest number of courses\n",
        "course_per_student = Student_registration.groupby('id_student').code_module.count().reset_index().groupby('code_module').count()\n",
        "course_per_student.rename(columns ={'id_student': 'Num Of Student'}, inplace = True)\n",
        "course_per_student"
      ]
    },
    {
      "cell_type": "code",
      "execution_count": null,
      "id": "9f08c37f",
      "metadata": {
        "id": "9f08c37f",
        "outputId": "09652f9b-0e38-49f7-ff3f-0e514324496a"
      },
      "outputs": [
        {
          "data": {
            "image/png": "[encoded data removed]",
            "text/plain": [
              "<Figure size 432x288 with 1 Axes>"
            ]
          },
          "metadata": {
            "needs_background": "light"
          },
          "output_type": "display_data"
        }
      ],
      "source": [
        "course_per_student.plot(kind = 'bar', legend = None)\n",
        "plt.title(\"Number Of Course 1 Student Enroll\")\n",
        "plt.xlabel(\"Course Number\")\n",
        "plt.ylabel(\"Number of Students\")\n",
        "plt.xticks(rotation = 0)\n",
        "plt.show()"
      ]
    },
    {
      "cell_type": "markdown",
      "id": "da00d21a",
      "metadata": {
        "id": "da00d21a"
      },
      "source": [
        "25,247 students (77%) enroll only 1 course in the platform. About 10% of student choose one more course in the platform. This is quite low compare to total 7 offered courses. The university should attract students to enroll more class in platform."
      ]
    },
    {
      "cell_type": "markdown",
      "id": "707445da",
      "metadata": {
        "id": "707445da"
      },
      "source": [
        "##### 7. How many students are disability?"
      ]
    },
    {
      "cell_type": "code",
      "execution_count": null,
      "id": "942610a3",
      "metadata": {
        "id": "942610a3",
        "outputId": "77369853-5c4e-4552-89c5-eef9de266afd"
      },
      "outputs": [
        {
          "name": "stdout",
          "output_type": "stream",
          "text": [
            "The Number of Student Is Disable: \n",
            "\n",
            "   Count  Percentage\n",
            "N  29429    0.902924\n",
            "Y   3164    0.097076\n"
          ]
        }
      ],
      "source": [
        "print(\"The Number of Student Is Disable: \\n\")\n",
        "disability_count = Student_info.disability.value_counts(ascending= False)\n",
        "disability_per = Student_info.disability.value_counts(normalize = True ,ascending= False)\n",
        "print(pd.concat([disability_count, disability_per], axis ='columns', keys = ['Count', 'Percentage']))"
      ]
    },
    {
      "cell_type": "code",
      "execution_count": null,
      "id": "12284aae",
      "metadata": {
        "id": "12284aae",
        "outputId": "900a760d-7363-4657-a496-dc2fe350b4b9"
      },
      "outputs": [
        {
          "data": {
            "image/png": "[encoded data removed]",
            "text/plain": [
              "<Figure size 432x288 with 1 Axes>"
            ]
          },
          "metadata": {},
          "output_type": "display_data"
        }
      ],
      "source": [
        "disability_label = ['No', 'Yes']\n",
        "plt.pie(Student_info.disability.value_counts(), labels= disability_label ,autopct='%1.1f%%',\n",
        "        startangle=90)\n",
        "plt.title(str(\"The Number of Student Is Disable\").title())\n",
        "plt.show()"
      ]
    },
    {
      "cell_type": "markdown",
      "id": "4d2c93c6",
      "metadata": {
        "id": "4d2c93c6"
      },
      "source": [
        "There is around 10% of student is disable. We will check that does disability affect their final result?"
      ]
    },
    {
      "cell_type": "markdown",
      "id": "794954a3",
      "metadata": {
        "id": "794954a3"
      },
      "source": [
        "##### 8. Does disability affect their result?"
      ]
    },
    {
      "cell_type": "code",
      "execution_count": null,
      "id": "66d443c3",
      "metadata": {
        "id": "66d443c3",
        "outputId": "1be21eeb-1c2d-4f78-c798-d71b42fe122c"
      },
      "outputs": [
        {
          "data": {
            "text/html": [
              "<div>\n",
              "<style scoped>\n",
              "    .dataframe tbody tr th:only-of-type {\n",
              "        vertical-align: middle;\n",
              "    }\n",
              "\n",
              "    .dataframe tbody tr th {\n",
              "        vertical-align: top;\n",
              "    }\n",
              "\n",
              "    .dataframe thead th {\n",
              "        text-align: right;\n",
              "    }\n",
              "</style>\n",
              "<table border=\"1\" class=\"dataframe\">\n",
              "  <thead>\n",
              "    <tr style=\"text-align: right;\">\n",
              "      <th>final_result</th>\n",
              "      <th>Distinction</th>\n",
              "      <th>Fail</th>\n",
              "      <th>Pass</th>\n",
              "      <th>Withdrawn</th>\n",
              "      <th>All</th>\n",
              "    </tr>\n",
              "    <tr>\n",
              "      <th>disability</th>\n",
              "      <th></th>\n",
              "      <th></th>\n",
              "      <th></th>\n",
              "      <th></th>\n",
              "      <th></th>\n",
              "    </tr>\n",
              "  </thead>\n",
              "  <tbody>\n",
              "    <tr>\n",
              "      <th>N</th>\n",
              "      <td>2801</td>\n",
              "      <td>6340</td>\n",
              "      <td>11377</td>\n",
              "      <td>8911</td>\n",
              "      <td>29429</td>\n",
              "    </tr>\n",
              "    <tr>\n",
              "      <th>Y</th>\n",
              "      <td>223</td>\n",
              "      <td>712</td>\n",
              "      <td>984</td>\n",
              "      <td>1245</td>\n",
              "      <td>3164</td>\n",
              "    </tr>\n",
              "    <tr>\n",
              "      <th>All</th>\n",
              "      <td>3024</td>\n",
              "      <td>7052</td>\n",
              "      <td>12361</td>\n",
              "      <td>10156</td>\n",
              "      <td>32593</td>\n",
              "    </tr>\n",
              "  </tbody>\n",
              "</table>\n",
              "</div>"
            ],
            "text/plain": [
              "final_result  Distinction  Fail   Pass  Withdrawn    All\n",
              "disability                                              \n",
              "N                    2801  6340  11377       8911  29429\n",
              "Y                     223   712    984       1245   3164\n",
              "All                  3024  7052  12361      10156  32593"
            ]
          },
          "execution_count": 40,
          "metadata": {},
          "output_type": "execute_result"
        }
      ],
      "source": [
        "disable_result = pd.crosstab(Student_info.disability, Student_info.final_result, margins = True)\n",
        "disable_result"
      ]
    },
    {
      "cell_type": "code",
      "execution_count": null,
      "id": "df096e4e",
      "metadata": {
        "id": "df096e4e",
        "outputId": "598f4473-f9fe-4ad9-ae0e-876fa30d0de8"
      },
      "outputs": [
        {
          "name": "stdout",
          "output_type": "stream",
          "text": [
            "final_result  Distinction      Fail      Pass  Withdrawn       All\n",
            "disability                                                        \n",
            "N                0.085939  0.194520  0.349063   0.273402  0.902924\n",
            "Y                0.006842  0.021845  0.030191   0.038198  0.097076\n",
            "All              0.092781  0.216365  0.379253   0.311601  1.000000\n",
            "\n",
            "The percentage of student who are disable and pass the course: 31.1%\n",
            "\n",
            "The percentage of student who are normal and pass the course: 38.66%\n"
          ]
        }
      ],
      "source": [
        "print(pd.crosstab(Student_info.disability, Student_info.final_result, margins = True, normalize= True))\n",
        "\n",
        "# Number of student who are disable and pass the course\n",
        "num_pass_dis = disable_result.loc['Y','Pass'] / disable_result.loc['Y','All']\n",
        "print(\"\\nThe percentage of student who are disable and pass the course: \" + str(round(num_pass_dis*100,2)) + '%')\n",
        "\n",
        "# Number of student who are not disable and pass the course\n",
        "num_pass_non = disable_result.loc['N','Pass'] / disable_result.loc['N','All']\n",
        "print(\"\\nThe percentage of student who are normal and pass the course: \" + str(round(num_pass_non*100,2)) + '%')"
      ]
    },
    {
      "cell_type": "markdown",
      "id": "19359ab4",
      "metadata": {
        "id": "19359ab4"
      },
      "source": [
        "We can see that there is small difference in final_result ratio between 2 groups. Students who is disable have 7% lower in final result ratio compared to who is not. It means that they need more help from instruction to have better result."
      ]
    },
    {
      "cell_type": "markdown",
      "id": "f8f7db7b",
      "metadata": {
        "id": "f8f7db7b"
      },
      "source": [
        "### Score Distribution"
      ]
    },
    {
      "cell_type": "code",
      "execution_count": null,
      "id": "205a2fb9",
      "metadata": {
        "id": "205a2fb9",
        "outputId": "a6c03ef0-42dd-4f6e-a593-249a402f0c0f"
      },
      "outputs": [
        {
          "data": {
            "text/plain": [
              "id_assessment       0\n",
              "id_student          0\n",
              "date_submitted      0\n",
              "is_banked           0\n",
              "score             173\n",
              "dtype: int64"
            ]
          },
          "execution_count": 42,
          "metadata": {},
          "output_type": "execute_result"
        }
      ],
      "source": [
        "Student_assessment.isna().sum()"
      ]
    },
    {
      "cell_type": "markdown",
      "id": "26f64195",
      "metadata": {
        "id": "26f64195"
      },
      "source": [
        "There are 173 missing score in total 173,912 records. The missing score is because these student did not submit their assessments. I will drop the nan record because it is small amound compared to total records."
      ]
    },
    {
      "cell_type": "code",
      "execution_count": null,
      "id": "8e4ef015",
      "metadata": {
        "id": "8e4ef015",
        "outputId": "896dbe2d-1cec-49f9-e590-448162e4aaa9"
      },
      "outputs": [
        {
          "data": {
            "text/plain": [
              "id_assessment     0\n",
              "id_student        0\n",
              "date_submitted    0\n",
              "is_banked         0\n",
              "score             0\n",
              "dtype: int64"
            ]
          },
          "execution_count": 43,
          "metadata": {},
          "output_type": "execute_result"
        }
      ],
      "source": [
        "# Drop nan data from dataset\n",
        "Student_assessment_nona = Student_assessment.dropna()\n",
        "Student_assessment_nona.isna().sum()"
      ]
    },
    {
      "cell_type": "code",
      "execution_count": null,
      "id": "50a4fe6c",
      "metadata": {
        "id": "50a4fe6c",
        "outputId": "33ad2e2e-2ce9-4a40-d4df-dc57f55b4072"
      },
      "outputs": [
        {
          "data": {
            "image/png": "[encoded data removed]",
            "text/plain": [
              "<Figure size 432x288 with 1 Axes>"
            ]
          },
          "metadata": {
            "needs_background": "light"
          },
          "output_type": "display_data"
        }
      ],
      "source": [
        "Student_assessment_nona.score.hist(bins = 30)\n",
        "plt.title(\"Score Distribution\")\n",
        "plt.xlabel(\"Score\")\n",
        "plt.show()"
      ]
    },
    {
      "cell_type": "markdown",
      "id": "8d514250",
      "metadata": {
        "id": "8d514250"
      },
      "source": [
        "The histogram shows that there are very high number of students have around 80 and 100 points in their assessments. Moreover, most of student get higher than 60 points. In the previous question, we also find that around 38% in total student pass in final result."
      ]
    },
    {
      "cell_type": "markdown",
      "id": "21b14c5e",
      "metadata": {
        "id": "21b14c5e"
      },
      "source": [
        "### Relationship Exploration"
      ]
    },
    {
      "cell_type": "code",
      "execution_count": null,
      "id": "68547b1c",
      "metadata": {
        "id": "68547b1c"
      },
      "outputs": [],
      "source": [
        "import statsmodels.formula.api as smf"
      ]
    },
    {
      "cell_type": "markdown",
      "id": "59880889",
      "metadata": {
        "id": "59880889"
      },
      "source": [
        "##### Change data type"
      ]
    },
    {
      "cell_type": "code",
      "execution_count": null,
      "id": "e8607fa0",
      "metadata": {
        "id": "e8607fa0"
      },
      "outputs": [],
      "source": [
        "Student_info[['gender', 'disability']] = Student_info[['gender', 'disability']].astype('bool')\n",
        "Student_info[['region', 'highest_education', 'age_band', 'imd_band']] = Student_info[['region', 'highest_education', 'age_band', 'imd_band']].astype('category')"
      ]
    },
    {
      "cell_type": "code",
      "execution_count": null,
      "id": "5cf3f8d5",
      "metadata": {
        "id": "5cf3f8d5",
        "outputId": "ce263081-7cb0-4435-cea6-92158350ff37"
      },
      "outputs": [
        {
          "data": {
            "text/plain": [
              "code_module               object\n",
              "code_presentation         object\n",
              "id_student                 int64\n",
              "gender                      bool\n",
              "region                  category\n",
              "highest_education       category\n",
              "imd_band                category\n",
              "age_band                category\n",
              "num_of_prev_attempts       int64\n",
              "studied_credits            int64\n",
              "disability                  bool\n",
              "final_result              object\n",
              "Year                      object\n",
              "Semester                  object\n",
              "dtype: object"
            ]
          },
          "execution_count": 47,
          "metadata": {},
          "output_type": "execute_result"
        }
      ],
      "source": [
        "Student_info.dtypes"
      ]
    },
    {
      "cell_type": "markdown",
      "id": "dfa48f4d",
      "metadata": {
        "id": "dfa48f4d"
      },
      "source": [
        "##### Merge student score with student info and assessment type"
      ]
    },
    {
      "cell_type": "code",
      "execution_count": null,
      "id": "5df3c8de",
      "metadata": {
        "id": "5df3c8de",
        "outputId": "a32baf49-e4bc-4a32-c16c-01cc13368b7d"
      },
      "outputs": [
        {
          "data": {
            "text/html": [
              "<div>\n",
              "<style scoped>\n",
              "    .dataframe tbody tr th:only-of-type {\n",
              "        vertical-align: middle;\n",
              "    }\n",
              "\n",
              "    .dataframe tbody tr th {\n",
              "        vertical-align: top;\n",
              "    }\n",
              "\n",
              "    .dataframe thead th {\n",
              "        text-align: right;\n",
              "    }\n",
              "</style>\n",
              "<table border=\"1\" class=\"dataframe\">\n",
              "  <thead>\n",
              "    <tr style=\"text-align: right;\">\n",
              "      <th></th>\n",
              "      <th>id_assessment</th>\n",
              "      <th>id_student</th>\n",
              "      <th>score</th>\n",
              "    </tr>\n",
              "  </thead>\n",
              "  <tbody>\n",
              "    <tr>\n",
              "      <th>0</th>\n",
              "      <td>1752</td>\n",
              "      <td>11391</td>\n",
              "      <td>78.0</td>\n",
              "    </tr>\n",
              "    <tr>\n",
              "      <th>1</th>\n",
              "      <td>1752</td>\n",
              "      <td>28400</td>\n",
              "      <td>70.0</td>\n",
              "    </tr>\n",
              "    <tr>\n",
              "      <th>2</th>\n",
              "      <td>1752</td>\n",
              "      <td>31604</td>\n",
              "      <td>72.0</td>\n",
              "    </tr>\n",
              "  </tbody>\n",
              "</table>\n",
              "</div>"
            ],
            "text/plain": [
              "   id_assessment  id_student  score\n",
              "0           1752       11391   78.0\n",
              "1           1752       28400   70.0\n",
              "2           1752       31604   72.0"
            ]
          },
          "execution_count": 48,
          "metadata": {},
          "output_type": "execute_result"
        }
      ],
      "source": [
        "Student_assessment_nona_subset = Student_assessment_nona[['id_assessment', 'id_student','score']]\n",
        "Student_assessment_nona_subset.head(3)"
      ]
    },
    {
      "cell_type": "code",
      "execution_count": null,
      "id": "5db2f037",
      "metadata": {
        "id": "5db2f037",
        "outputId": "bd78e35a-c40a-4e3a-cbaa-3e0e4841abfb"
      },
      "outputs": [
        {
          "data": {
            "text/html": [
              "<div>\n",
              "<style scoped>\n",
              "    .dataframe tbody tr th:only-of-type {\n",
              "        vertical-align: middle;\n",
              "    }\n",
              "\n",
              "    .dataframe tbody tr th {\n",
              "        vertical-align: top;\n",
              "    }\n",
              "\n",
              "    .dataframe thead th {\n",
              "        text-align: right;\n",
              "    }\n",
              "</style>\n",
              "<table border=\"1\" class=\"dataframe\">\n",
              "  <thead>\n",
              "    <tr style=\"text-align: right;\">\n",
              "      <th></th>\n",
              "      <th>id_student</th>\n",
              "      <th>gender</th>\n",
              "      <th>disability</th>\n",
              "      <th>region</th>\n",
              "      <th>highest_education</th>\n",
              "      <th>age_band</th>\n",
              "    </tr>\n",
              "  </thead>\n",
              "  <tbody>\n",
              "    <tr>\n",
              "      <th>0</th>\n",
              "      <td>11391</td>\n",
              "      <td>True</td>\n",
              "      <td>True</td>\n",
              "      <td>East Anglian Region</td>\n",
              "      <td>HE Qualification</td>\n",
              "      <td>55&lt;=</td>\n",
              "    </tr>\n",
              "    <tr>\n",
              "      <th>1</th>\n",
              "      <td>28400</td>\n",
              "      <td>True</td>\n",
              "      <td>True</td>\n",
              "      <td>Scotland</td>\n",
              "      <td>HE Qualification</td>\n",
              "      <td>35-55</td>\n",
              "    </tr>\n",
              "    <tr>\n",
              "      <th>2</th>\n",
              "      <td>30268</td>\n",
              "      <td>True</td>\n",
              "      <td>True</td>\n",
              "      <td>North Western Region</td>\n",
              "      <td>A Level or Equivalent</td>\n",
              "      <td>35-55</td>\n",
              "    </tr>\n",
              "  </tbody>\n",
              "</table>\n",
              "</div>"
            ],
            "text/plain": [
              "   id_student  gender  disability                region  \\\n",
              "0       11391    True        True   East Anglian Region   \n",
              "1       28400    True        True              Scotland   \n",
              "2       30268    True        True  North Western Region   \n",
              "\n",
              "       highest_education age_band  \n",
              "0       HE Qualification     55<=  \n",
              "1       HE Qualification    35-55  \n",
              "2  A Level or Equivalent    35-55  "
            ]
          },
          "execution_count": 49,
          "metadata": {},
          "output_type": "execute_result"
        }
      ],
      "source": [
        "Student_info_subset = Student_info[['id_student','gender', 'disability','region', 'highest_education', 'age_band']]\n",
        "Student_info_subset.head(3)"
      ]
    },
    {
      "cell_type": "code",
      "execution_count": null,
      "id": "19e5f3e2",
      "metadata": {
        "id": "19e5f3e2",
        "outputId": "ac91dc81-b621-431f-f748-edb5808c502a"
      },
      "outputs": [
        {
          "data": {
            "text/html": [
              "<div>\n",
              "<style scoped>\n",
              "    .dataframe tbody tr th:only-of-type {\n",
              "        vertical-align: middle;\n",
              "    }\n",
              "\n",
              "    .dataframe tbody tr th {\n",
              "        vertical-align: top;\n",
              "    }\n",
              "\n",
              "    .dataframe thead th {\n",
              "        text-align: right;\n",
              "    }\n",
              "</style>\n",
              "<table border=\"1\" class=\"dataframe\">\n",
              "  <thead>\n",
              "    <tr style=\"text-align: right;\">\n",
              "      <th></th>\n",
              "      <th>id_assessment</th>\n",
              "      <th>assessment_type</th>\n",
              "    </tr>\n",
              "  </thead>\n",
              "  <tbody>\n",
              "    <tr>\n",
              "      <th>0</th>\n",
              "      <td>1752</td>\n",
              "      <td>TMA</td>\n",
              "    </tr>\n",
              "    <tr>\n",
              "      <th>1</th>\n",
              "      <td>1753</td>\n",
              "      <td>TMA</td>\n",
              "    </tr>\n",
              "    <tr>\n",
              "      <th>2</th>\n",
              "      <td>1754</td>\n",
              "      <td>TMA</td>\n",
              "    </tr>\n",
              "  </tbody>\n",
              "</table>\n",
              "</div>"
            ],
            "text/plain": [
              "   id_assessment assessment_type\n",
              "0           1752             TMA\n",
              "1           1753             TMA\n",
              "2           1754             TMA"
            ]
          },
          "execution_count": 50,
          "metadata": {},
          "output_type": "execute_result"
        }
      ],
      "source": [
        "Assessments_subset = Assessments[['id_assessment','assessment_type']]\n",
        "Assessments_subset.head(3)"
      ]
    },
    {
      "cell_type": "code",
      "execution_count": null,
      "id": "0fea05a1",
      "metadata": {
        "id": "0fea05a1",
        "outputId": "c243ca25-2fdb-4635-c63a-5ac559155eb5"
      },
      "outputs": [
        {
          "data": {
            "text/html": [
              "<div>\n",
              "<style scoped>\n",
              "    .dataframe tbody tr th:only-of-type {\n",
              "        vertical-align: middle;\n",
              "    }\n",
              "\n",
              "    .dataframe tbody tr th {\n",
              "        vertical-align: top;\n",
              "    }\n",
              "\n",
              "    .dataframe thead th {\n",
              "        text-align: right;\n",
              "    }\n",
              "</style>\n",
              "<table border=\"1\" class=\"dataframe\">\n",
              "  <thead>\n",
              "    <tr style=\"text-align: right;\">\n",
              "      <th></th>\n",
              "      <th>id_assessment</th>\n",
              "      <th>id_student</th>\n",
              "      <th>score</th>\n",
              "      <th>assessment_type</th>\n",
              "      <th>gender</th>\n",
              "      <th>disability</th>\n",
              "      <th>region</th>\n",
              "      <th>highest_education</th>\n",
              "      <th>age_band</th>\n",
              "    </tr>\n",
              "  </thead>\n",
              "  <tbody>\n",
              "    <tr>\n",
              "      <th>0</th>\n",
              "      <td>1752</td>\n",
              "      <td>11391</td>\n",
              "      <td>78.0</td>\n",
              "      <td>TMA</td>\n",
              "      <td>True</td>\n",
              "      <td>True</td>\n",
              "      <td>East Anglian Region</td>\n",
              "      <td>HE Qualification</td>\n",
              "      <td>55&lt;=</td>\n",
              "    </tr>\n",
              "    <tr>\n",
              "      <th>1</th>\n",
              "      <td>1752</td>\n",
              "      <td>28400</td>\n",
              "      <td>70.0</td>\n",
              "      <td>TMA</td>\n",
              "      <td>True</td>\n",
              "      <td>True</td>\n",
              "      <td>Scotland</td>\n",
              "      <td>HE Qualification</td>\n",
              "      <td>35-55</td>\n",
              "    </tr>\n",
              "    <tr>\n",
              "      <th>2</th>\n",
              "      <td>1752</td>\n",
              "      <td>31604</td>\n",
              "      <td>72.0</td>\n",
              "      <td>TMA</td>\n",
              "      <td>True</td>\n",
              "      <td>True</td>\n",
              "      <td>South East Region</td>\n",
              "      <td>A Level or Equivalent</td>\n",
              "      <td>35-55</td>\n",
              "    </tr>\n",
              "  </tbody>\n",
              "</table>\n",
              "</div>"
            ],
            "text/plain": [
              "   id_assessment  id_student  score assessment_type  gender  disability  \\\n",
              "0           1752       11391   78.0             TMA    True        True   \n",
              "1           1752       28400   70.0             TMA    True        True   \n",
              "2           1752       31604   72.0             TMA    True        True   \n",
              "\n",
              "                region      highest_education age_band  \n",
              "0  East Anglian Region       HE Qualification     55<=  \n",
              "1             Scotland       HE Qualification    35-55  \n",
              "2    South East Region  A Level or Equivalent    35-55  "
            ]
          },
          "execution_count": 51,
          "metadata": {},
          "output_type": "execute_result"
        }
      ],
      "source": [
        "# Merge assessment type to student assessment\n",
        "Merge_df = Student_assessment_nona_subset.merge(Assessments_subset, how = 'left', on = 'id_assessment').\\\n",
        "merge(Student_info_subset, on = 'id_student', how = 'left')\n",
        "Merge_df.head(3)"
      ]
    },
    {
      "cell_type": "code",
      "execution_count": null,
      "id": "60f35442",
      "metadata": {
        "id": "60f35442",
        "outputId": "7ed9f256-430b-4aa1-b606-c3e2e1093079"
      },
      "outputs": [
        {
          "data": {
            "text/plain": [
              "id_assessment        0\n",
              "id_student           0\n",
              "score                0\n",
              "assessment_type      0\n",
              "gender               0\n",
              "disability           0\n",
              "region               0\n",
              "highest_education    0\n",
              "age_band             0\n",
              "dtype: int64"
            ]
          },
          "execution_count": 52,
          "metadata": {},
          "output_type": "execute_result"
        }
      ],
      "source": [
        "# Check NaN\n",
        "Merge_df.isna().sum()"
      ]
    },
    {
      "cell_type": "code",
      "execution_count": null,
      "id": "e7e9c7cd",
      "metadata": {
        "id": "e7e9c7cd",
        "outputId": "6426308a-974b-4695-f144-a4c7ab95adff"
      },
      "outputs": [
        {
          "data": {
            "text/plain": [
              "id_assessment           int64\n",
              "id_student              int64\n",
              "score                 float64\n",
              "assessment_type      category\n",
              "gender                   bool\n",
              "disability               bool\n",
              "region               category\n",
              "highest_education    category\n",
              "age_band             category\n",
              "dtype: object"
            ]
          },
          "execution_count": 53,
          "metadata": {},
          "output_type": "execute_result"
        }
      ],
      "source": [
        "# Check data type\n",
        "Merge_df['assessment_type'] = Merge_df['assessment_type'].astype('category')\n",
        "Merge_df.dtypes"
      ]
    },
    {
      "cell_type": "code",
      "execution_count": null,
      "id": "3185a125",
      "metadata": {
        "id": "3185a125",
        "outputId": "33cc36df-df62-43fe-8a21-1a98704e38fa"
      },
      "outputs": [
        {
          "data": {
            "text/html": [
              "<table class=\"simpletable\">\n",
              "<caption>OLS Regression Results</caption>\n",
              "<tr>\n",
              "  <th>Dep. Variable:</th>          <td>score</td>      <th>  R-squared:         </th>  <td>   0.058</td>  \n",
              "</tr>\n",
              "<tr>\n",
              "  <th>Model:</th>                   <td>OLS</td>       <th>  Adj. R-squared:    </th>  <td>   0.058</td>  \n",
              "</tr>\n",
              "<tr>\n",
              "  <th>Method:</th>             <td>Least Squares</td>  <th>  F-statistic:       </th>  <td>   1590.</td>  \n",
              "</tr>\n",
              "<tr>\n",
              "  <th>Date:</th>             <td>Tue, 08 Jun 2021</td> <th>  Prob (F-statistic):</th>   <td>  0.00</td>   \n",
              "</tr>\n",
              "<tr>\n",
              "  <th>Time:</th>                 <td>23:29:35</td>     <th>  Log-Likelihood:    </th> <td>-8.9833e+05</td>\n",
              "</tr>\n",
              "<tr>\n",
              "  <th>No. Observations:</th>      <td>207092</td>      <th>  AIC:               </th>  <td>1.797e+06</td> \n",
              "</tr>\n",
              "<tr>\n",
              "  <th>Df Residuals:</th>          <td>207083</td>      <th>  BIC:               </th>  <td>1.797e+06</td> \n",
              "</tr>\n",
              "<tr>\n",
              "  <th>Df Model:</th>              <td>     8</td>      <th>                     </th>      <td> </td>     \n",
              "</tr>\n",
              "<tr>\n",
              "  <th>Covariance Type:</th>      <td>nonrobust</td>    <th>                     </th>      <td> </td>     \n",
              "</tr>\n",
              "</table>\n",
              "<table class=\"simpletable\">\n",
              "<tr>\n",
              "                           <td></td>                              <th>coef</th>     <th>std err</th>      <th>t</th>      <th>P>|t|</th>  <th>[0.025</th>    <th>0.975]</th>  \n",
              "</tr>\n",
              "<tr>\n",
              "  <th>Intercept</th>                                           <td>   26.7034</td> <td>    0.027</td> <td>  981.787</td> <td> 0.000</td> <td>   26.650</td> <td>   26.757</td>\n",
              "</tr>\n",
              "<tr>\n",
              "  <th>C(assessment_type)[T.Exam]</th>                          <td>  -14.8417</td> <td>    0.236</td> <td>  -62.877</td> <td> 0.000</td> <td>  -15.304</td> <td>  -14.379</td>\n",
              "</tr>\n",
              "<tr>\n",
              "  <th>C(assessment_type)[T.TMA]</th>                           <td>   -7.5982</td> <td>    0.084</td> <td>  -90.368</td> <td> 0.000</td> <td>   -7.763</td> <td>   -7.433</td>\n",
              "</tr>\n",
              "<tr>\n",
              "  <th>gender[T.True]</th>                                      <td>   26.7034</td> <td>    0.027</td> <td>  981.787</td> <td> 0.000</td> <td>   26.650</td> <td>   26.757</td>\n",
              "</tr>\n",
              "<tr>\n",
              "  <th>disability[T.True]</th>                                  <td>   26.7034</td> <td>    0.027</td> <td>  981.787</td> <td> 0.000</td> <td>   26.650</td> <td>   26.757</td>\n",
              "</tr>\n",
              "<tr>\n",
              "  <th>C(highest_education)[T.HE Qualification]</th>            <td>    1.3610</td> <td>    0.119</td> <td>   11.437</td> <td> 0.000</td> <td>    1.128</td> <td>    1.594</td>\n",
              "</tr>\n",
              "<tr>\n",
              "  <th>C(highest_education)[T.Lower Than A Level]</th>          <td>   -2.5115</td> <td>    0.091</td> <td>  -27.559</td> <td> 0.000</td> <td>   -2.690</td> <td>   -2.333</td>\n",
              "</tr>\n",
              "<tr>\n",
              "  <th>C(highest_education)[T.No Formal quals]</th>             <td>   -5.3001</td> <td>    0.464</td> <td>  -11.418</td> <td> 0.000</td> <td>   -6.210</td> <td>   -4.390</td>\n",
              "</tr>\n",
              "<tr>\n",
              "  <th>C(highest_education)[T.Post Graduate Qualification]</th> <td>    6.8080</td> <td>    0.363</td> <td>   18.747</td> <td> 0.000</td> <td>    6.096</td> <td>    7.520</td>\n",
              "</tr>\n",
              "<tr>\n",
              "  <th>C(age_band)[T.35-55]</th>                                <td>    2.2796</td> <td>    0.090</td> <td>   25.277</td> <td> 0.000</td> <td>    2.103</td> <td>    2.456</td>\n",
              "</tr>\n",
              "<tr>\n",
              "  <th>C(age_band)[T.55<=]</th>                                 <td>    4.1877</td> <td>    0.479</td> <td>    8.749</td> <td> 0.000</td> <td>    3.249</td> <td>    5.126</td>\n",
              "</tr>\n",
              "</table>\n",
              "<table class=\"simpletable\">\n",
              "<tr>\n",
              "  <th>Omnibus:</th>       <td>36647.621</td> <th>  Durbin-Watson:     </th> <td>   1.415</td> \n",
              "</tr>\n",
              "<tr>\n",
              "  <th>Prob(Omnibus):</th>  <td> 0.000</td>   <th>  Jarque-Bera (JB):  </th> <td>66281.439</td>\n",
              "</tr>\n",
              "<tr>\n",
              "  <th>Skew:</th>           <td>-1.127</td>   <th>  Prob(JB):          </th> <td>    0.00</td> \n",
              "</tr>\n",
              "<tr>\n",
              "  <th>Kurtosis:</th>       <td> 4.613</td>   <th>  Cond. No.          </th> <td>2.59e+18</td> \n",
              "</tr>\n",
              "</table><br/><br/>Warnings:<br/>[1] Standard Errors assume that the covariance matrix of the errors is correctly specified.<br/>[2] The smallest eigenvalue is 1.11e-31. This might indicate that there are<br/>strong multicollinearity problems or that the design matrix is singular."
            ],
            "text/plain": [
              "<class 'statsmodels.iolib.summary.Summary'>\n",
              "\"\"\"\n",
              "                            OLS Regression Results                            \n",
              "==============================================================================\n",
              "Dep. Variable:                  score   R-squared:                       0.058\n",
              "Model:                            OLS   Adj. R-squared:                  0.058\n",
              "Method:                 Least Squares   F-statistic:                     1590.\n",
              "Date:                Tue, 08 Jun 2021   Prob (F-statistic):               0.00\n",
              "Time:                        23:29:35   Log-Likelihood:            -8.9833e+05\n",
              "No. Observations:              207092   AIC:                         1.797e+06\n",
              "Df Residuals:                  207083   BIC:                         1.797e+06\n",
              "Df Model:                           8                                         \n",
              "Covariance Type:            nonrobust                                         \n",
              "=======================================================================================================================\n",
              "                                                          coef    std err          t      P>|t|      [0.025      0.975]\n",
              "-----------------------------------------------------------------------------------------------------------------------\n",
              "Intercept                                              26.7034      0.027    981.787      0.000      26.650      26.757\n",
              "C(assessment_type)[T.Exam]                            -14.8417      0.236    -62.877      0.000     -15.304     -14.379\n",
              "C(assessment_type)[T.TMA]                              -7.5982      0.084    -90.368      0.000      -7.763      -7.433\n",
              "gender[T.True]                                         26.7034      0.027    981.787      0.000      26.650      26.757\n",
              "disability[T.True]                                     26.7034      0.027    981.787      0.000      26.650      26.757\n",
              "C(highest_education)[T.HE Qualification]                1.3610      0.119     11.437      0.000       1.128       1.594\n",
              "C(highest_education)[T.Lower Than A Level]             -2.5115      0.091    -27.559      0.000      -2.690      -2.333\n",
              "C(highest_education)[T.No Formal quals]                -5.3001      0.464    -11.418      0.000      -6.210      -4.390\n",
              "C(highest_education)[T.Post Graduate Qualification]     6.8080      0.363     18.747      0.000       6.096       7.520\n",
              "C(age_band)[T.35-55]                                    2.2796      0.090     25.277      0.000       2.103       2.456\n",
              "C(age_band)[T.55<=]                                     4.1877      0.479      8.749      0.000       3.249       5.126\n",
              "==============================================================================\n",
              "Omnibus:                    36647.621   Durbin-Watson:                   1.415\n",
              "Prob(Omnibus):                  0.000   Jarque-Bera (JB):            66281.439\n",
              "Skew:                          -1.127   Prob(JB):                         0.00\n",
              "Kurtosis:                       4.613   Cond. No.                     2.59e+18\n",
              "==============================================================================\n",
              "\n",
              "Warnings:\n",
              "[1] Standard Errors assume that the covariance matrix of the errors is correctly specified.\n",
              "[2] The smallest eigenvalue is 1.11e-31. This might indicate that there are\n",
              "strong multicollinearity problems or that the design matrix is singular.\n",
              "\"\"\""
            ]
          },
          "execution_count": 54,
          "metadata": {},
          "output_type": "execute_result"
        }
      ],
      "source": [
        "# Make multiple regression model all factor that may affect student's score\n",
        "formula = 'score ~ C(assessment_type) + gender + disability + C(highest_education) + C(age_band)'\n",
        "rlm = smf.ols(formula, data = Merge_df).fit()\n",
        "rlm.summary()"
      ]
    },
    {
      "cell_type": "markdown",
      "id": "007ed3f6",
      "metadata": {
        "id": "007ed3f6"
      },
      "source": [
        "To answer this question, I assume that assessment type, gender, region, imd band, disability, level of education, and age may affect on student's scores. When I answer above question, these factors have some differences on the final result of students. First, I merge 3 datasets to get these factor on 1 table. Second, I make a multiple regression model on these factors on student score. I test and remove insignificant factors on the model. I find that assessment type, gender, disability, level of education and age have small effect on score with only 5.8%. It means that the model can somehow be used to predict the student's scores, there are many other factors out there to add in the model to increase its measurement."
      ]
    },
    {
      "cell_type": "code",
      "execution_count": null,
      "id": "82adfb72",
      "metadata": {
        "scrolled": true,
        "id": "82adfb72",
        "outputId": "fc5e0a51-05bf-4f81-8d53-58133b3c4c9c"
      },
      "outputs": [
        {
          "data": {
            "text/html": [
              "<div>\n",
              "<style scoped>\n",
              "    .dataframe tbody tr th:only-of-type {\n",
              "        vertical-align: middle;\n",
              "    }\n",
              "\n",
              "    .dataframe tbody tr th {\n",
              "        vertical-align: top;\n",
              "    }\n",
              "\n",
              "    .dataframe thead th {\n",
              "        text-align: right;\n",
              "    }\n",
              "</style>\n",
              "<table border=\"1\" class=\"dataframe\">\n",
              "  <thead>\n",
              "    <tr style=\"text-align: right;\">\n",
              "      <th></th>\n",
              "      <th>id_student</th>\n",
              "      <th>id_site</th>\n",
              "      <th>date</th>\n",
              "      <th>sum_click</th>\n",
              "    </tr>\n",
              "  </thead>\n",
              "  <tbody>\n",
              "    <tr>\n",
              "      <th>count</th>\n",
              "      <td>1.065528e+07</td>\n",
              "      <td>1.065528e+07</td>\n",
              "      <td>1.065528e+07</td>\n",
              "      <td>1.065528e+07</td>\n",
              "    </tr>\n",
              "    <tr>\n",
              "      <th>mean</th>\n",
              "      <td>7.333336e+05</td>\n",
              "      <td>7.383234e+05</td>\n",
              "      <td>9.517400e+01</td>\n",
              "      <td>3.716946e+00</td>\n",
              "    </tr>\n",
              "    <tr>\n",
              "      <th>std</th>\n",
              "      <td>5.827060e+05</td>\n",
              "      <td>1.312196e+05</td>\n",
              "      <td>7.607130e+01</td>\n",
              "      <td>8.849047e+00</td>\n",
              "    </tr>\n",
              "    <tr>\n",
              "      <th>min</th>\n",
              "      <td>6.516000e+03</td>\n",
              "      <td>5.267210e+05</td>\n",
              "      <td>-2.500000e+01</td>\n",
              "      <td>1.000000e+00</td>\n",
              "    </tr>\n",
              "    <tr>\n",
              "      <th>25%</th>\n",
              "      <td>5.077430e+05</td>\n",
              "      <td>6.735190e+05</td>\n",
              "      <td>2.500000e+01</td>\n",
              "      <td>1.000000e+00</td>\n",
              "    </tr>\n",
              "    <tr>\n",
              "      <th>50%</th>\n",
              "      <td>5.882360e+05</td>\n",
              "      <td>7.300690e+05</td>\n",
              "      <td>8.600000e+01</td>\n",
              "      <td>2.000000e+00</td>\n",
              "    </tr>\n",
              "    <tr>\n",
              "      <th>75%</th>\n",
              "      <td>6.464840e+05</td>\n",
              "      <td>8.770300e+05</td>\n",
              "      <td>1.560000e+02</td>\n",
              "      <td>3.000000e+00</td>\n",
              "    </tr>\n",
              "    <tr>\n",
              "      <th>max</th>\n",
              "      <td>2.698588e+06</td>\n",
              "      <td>1.049562e+06</td>\n",
              "      <td>2.690000e+02</td>\n",
              "      <td>6.977000e+03</td>\n",
              "    </tr>\n",
              "  </tbody>\n",
              "</table>\n",
              "</div>"
            ],
            "text/plain": [
              "         id_student       id_site          date     sum_click\n",
              "count  1.065528e+07  1.065528e+07  1.065528e+07  1.065528e+07\n",
              "mean   7.333336e+05  7.383234e+05  9.517400e+01  3.716946e+00\n",
              "std    5.827060e+05  1.312196e+05  7.607130e+01  8.849047e+00\n",
              "min    6.516000e+03  5.267210e+05 -2.500000e+01  1.000000e+00\n",
              "25%    5.077430e+05  6.735190e+05  2.500000e+01  1.000000e+00\n",
              "50%    5.882360e+05  7.300690e+05  8.600000e+01  2.000000e+00\n",
              "75%    6.464840e+05  8.770300e+05  1.560000e+02  3.000000e+00\n",
              "max    2.698588e+06  1.049562e+06  2.690000e+02  6.977000e+03"
            ]
          },
          "execution_count": 55,
          "metadata": {},
          "output_type": "execute_result"
        }
      ],
      "source": [
        "Student_vle.describe()"
      ]
    },
    {
      "cell_type": "code",
      "execution_count": null,
      "id": "ae13414d",
      "metadata": {
        "id": "ae13414d",
        "outputId": "ee9c51da-2ede-44ae-dc6a-f64905a743bd"
      },
      "outputs": [
        {
          "data": {
            "image/png": "[encoded data removed]",
            "text/plain": [
              "<Figure size 360x360 with 1 Axes>"
            ]
          },
          "metadata": {
            "needs_background": "light"
          },
          "output_type": "display_data"
        }
      ],
      "source": [
        "date_click = Student_vle.sort_values(by= 'date')\n",
        "sns.relplot(x= 'date', y = 'sum_click', kind = 'scatter', data = date_click)\n",
        "plt.title('Student Performance During Their Course')\n",
        "plt.xlabel('Date During the Course')\n",
        "plt.ylabel('Sum of Interaction Per Day')\n",
        "plt.show()"
      ]
    },
    {
      "cell_type": "code",
      "execution_count": null,
      "id": "5fd1a342",
      "metadata": {
        "scrolled": true,
        "id": "5fd1a342",
        "outputId": "797a3d0d-0168-43d1-cf39-a98872ebd14b"
      },
      "outputs": [
        {
          "data": {
            "text/html": [
              "<div>\n",
              "<style scoped>\n",
              "    .dataframe tbody tr th:only-of-type {\n",
              "        vertical-align: middle;\n",
              "    }\n",
              "\n",
              "    .dataframe tbody tr th {\n",
              "        vertical-align: top;\n",
              "    }\n",
              "\n",
              "    .dataframe thead th {\n",
              "        text-align: right;\n",
              "    }\n",
              "</style>\n",
              "<table border=\"1\" class=\"dataframe\">\n",
              "  <thead>\n",
              "    <tr style=\"text-align: right;\">\n",
              "      <th></th>\n",
              "      <th>id_assessment</th>\n",
              "      <th>id_student</th>\n",
              "      <th>date_submitted</th>\n",
              "      <th>is_banked</th>\n",
              "      <th>score</th>\n",
              "    </tr>\n",
              "  </thead>\n",
              "  <tbody>\n",
              "    <tr>\n",
              "      <th>count</th>\n",
              "      <td>173912.000000</td>\n",
              "      <td>1.739120e+05</td>\n",
              "      <td>173912.000000</td>\n",
              "      <td>173912.000000</td>\n",
              "      <td>173739.000000</td>\n",
              "    </tr>\n",
              "    <tr>\n",
              "      <th>mean</th>\n",
              "      <td>26553.803556</td>\n",
              "      <td>7.051507e+05</td>\n",
              "      <td>116.032942</td>\n",
              "      <td>0.010977</td>\n",
              "      <td>75.799573</td>\n",
              "    </tr>\n",
              "    <tr>\n",
              "      <th>std</th>\n",
              "      <td>8829.784254</td>\n",
              "      <td>5.523952e+05</td>\n",
              "      <td>71.484148</td>\n",
              "      <td>0.104194</td>\n",
              "      <td>18.798107</td>\n",
              "    </tr>\n",
              "    <tr>\n",
              "      <th>min</th>\n",
              "      <td>1752.000000</td>\n",
              "      <td>6.516000e+03</td>\n",
              "      <td>-11.000000</td>\n",
              "      <td>0.000000</td>\n",
              "      <td>0.000000</td>\n",
              "    </tr>\n",
              "    <tr>\n",
              "      <th>25%</th>\n",
              "      <td>15022.000000</td>\n",
              "      <td>5.044290e+05</td>\n",
              "      <td>51.000000</td>\n",
              "      <td>0.000000</td>\n",
              "      <td>65.000000</td>\n",
              "    </tr>\n",
              "    <tr>\n",
              "      <th>50%</th>\n",
              "      <td>25359.000000</td>\n",
              "      <td>5.852080e+05</td>\n",
              "      <td>116.000000</td>\n",
              "      <td>0.000000</td>\n",
              "      <td>80.000000</td>\n",
              "    </tr>\n",
              "    <tr>\n",
              "      <th>75%</th>\n",
              "      <td>34883.000000</td>\n",
              "      <td>6.344980e+05</td>\n",
              "      <td>173.000000</td>\n",
              "      <td>0.000000</td>\n",
              "      <td>90.000000</td>\n",
              "    </tr>\n",
              "    <tr>\n",
              "      <th>max</th>\n",
              "      <td>37443.000000</td>\n",
              "      <td>2.698588e+06</td>\n",
              "      <td>608.000000</td>\n",
              "      <td>1.000000</td>\n",
              "      <td>100.000000</td>\n",
              "    </tr>\n",
              "  </tbody>\n",
              "</table>\n",
              "</div>"
            ],
            "text/plain": [
              "       id_assessment    id_student  date_submitted      is_banked  \\\n",
              "count  173912.000000  1.739120e+05   173912.000000  173912.000000   \n",
              "mean    26553.803556  7.051507e+05      116.032942       0.010977   \n",
              "std      8829.784254  5.523952e+05       71.484148       0.104194   \n",
              "min      1752.000000  6.516000e+03      -11.000000       0.000000   \n",
              "25%     15022.000000  5.044290e+05       51.000000       0.000000   \n",
              "50%     25359.000000  5.852080e+05      116.000000       0.000000   \n",
              "75%     34883.000000  6.344980e+05      173.000000       0.000000   \n",
              "max     37443.000000  2.698588e+06      608.000000       1.000000   \n",
              "\n",
              "               score  \n",
              "count  173739.000000  \n",
              "mean       75.799573  \n",
              "std        18.798107  \n",
              "min         0.000000  \n",
              "25%        65.000000  \n",
              "50%        80.000000  \n",
              "75%        90.000000  \n",
              "max       100.000000  "
            ]
          },
          "execution_count": 57,
          "metadata": {},
          "output_type": "execute_result"
        }
      ],
      "source": [
        "Student_assessment.describe()"
      ]
    },
    {
      "cell_type": "code",
      "execution_count": null,
      "id": "a118e74a",
      "metadata": {
        "id": "a118e74a"
      },
      "outputs": [],
      "source": [
        "score_date = Student_assessment.sort_values(by = 'date_submitted')"
      ]
    },
    {
      "cell_type": "code",
      "execution_count": null,
      "id": "58958cf1",
      "metadata": {
        "id": "58958cf1",
        "outputId": "5508b25c-b89b-4c1c-8198-9fd030e691d2"
      },
      "outputs": [
        {
          "data": {
            "image/png": "[encoded data removed]",
            "text/plain": [
              "<Figure size 360x360 with 1 Axes>"
            ]
          },
          "metadata": {
            "needs_background": "light"
          },
          "output_type": "display_data"
        }
      ],
      "source": [
        "sns.relplot(x = 'date_submitted', y = 'score', data = score_date, kind = 'scatter')\n",
        "plt.title('Student Performance During Their Course')\n",
        "plt.xlabel('Date of Test Submission')\n",
        "plt.ylabel('Score')\n",
        "plt.show()"
      ]
    },
    {
      "cell_type": "code",
      "execution_count": null,
      "id": "11313183",
      "metadata": {
        "id": "11313183",
        "outputId": "f31e2a9b-84f7-4639-e80c-f5c1d3870c27"
      },
      "outputs": [
        {
          "data": {
            "text/plain": [
              "code_module                0\n",
              "code_presentation          0\n",
              "id_student                 0\n",
              "date_registration         45\n",
              "date_unregistration    22521\n",
              "Year                       0\n",
              "Semester                   0\n",
              "dtype: int64"
            ]
          },
          "execution_count": 60,
          "metadata": {},
          "output_type": "execute_result"
        }
      ],
      "source": [
        "Student_registration.isna().sum()"
      ]
    },
    {
      "cell_type": "code",
      "execution_count": null,
      "id": "b4055449",
      "metadata": {
        "id": "b4055449",
        "outputId": "c84986f2-057e-478e-fe5c-935670941939"
      },
      "outputs": [
        {
          "data": {
            "text/plain": [
              "code_module                0\n",
              "code_presentation          0\n",
              "id_student                 0\n",
              "date_registration          0\n",
              "date_unregistration    22515\n",
              "Year                       0\n",
              "Semester                   0\n",
              "dtype: int64"
            ]
          },
          "execution_count": 65,
          "metadata": {},
          "output_type": "execute_result"
        }
      ],
      "source": [
        "Student_reg_nonna = Student_registration[Student_registration['date_registration'].notna()]\n",
        "Student_reg_nonna.isna().sum()"
      ]
    },
    {
      "cell_type": "code",
      "execution_count": null,
      "id": "eec9a735",
      "metadata": {
        "id": "eec9a735"
      },
      "outputs": [],
      "source": []
    },
    {
      "cell_type": "code",
      "execution_count": null,
      "id": "80c16a89",
      "metadata": {
        "id": "80c16a89"
      },
      "outputs": [],
      "source": []
    },
    {
      "cell_type": "code",
      "execution_count": null,
      "id": "ce68f845",
      "metadata": {
        "id": "ce68f845"
      },
      "outputs": [],
      "source": []
    },
    {
      "cell_type": "code",
      "execution_count": null,
      "id": "1f72df47",
      "metadata": {
        "id": "1f72df47"
      },
      "outputs": [],
      "source": []
    },
    {
      "cell_type": "code",
      "execution_count": null,
      "id": "3fa41408",
      "metadata": {
        "id": "3fa41408"
      },
      "outputs": [],
      "source": []
    }
  ],
  "metadata": {
    "kernelspec": {
      "display_name": "Python 3 (ipykernel)",
      "language": "python",
      "name": "python3"
    },
    "language_info": {
      "codemirror_mode": {
        "name": "ipython",
        "version": 3
      },
      "file_extension": ".py",
      "mimetype": "text/x-python",
      "name": "python",
      "nbconvert_exporter": "python",
      "pygments_lexer": "ipython3",
      "version": "3.9.13"
    },
    "colab": {
      "provenance": [],
      "include_colab_link": true
    }
  },
  "nbformat": 4,
  "nbformat_minor": 5
}